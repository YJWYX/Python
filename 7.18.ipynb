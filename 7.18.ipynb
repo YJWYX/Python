{
 "cells": [
  {
   "cell_type": "markdown",
   "metadata": {},
   "source": [
    "# 选择\n",
    "## 布尔类型、数值和表达式（true、false）\n",
    "![](../Photo/33.png)\n",
    "- 注意：比较运算符的相等是两个等号，一个等到代表赋值\n",
    "- 在Python中可以用整型0来代表False，其他数字来代表True\n",
    "- 后面还会讲到 is 在判断语句中的用发"
   ]
  },
  {
   "cell_type": "code",
   "execution_count": 1,
   "metadata": {},
   "outputs": [
    {
     "data": {
      "text/plain": [
       "True"
      ]
     },
     "execution_count": 1,
     "metadata": {},
     "output_type": "execute_result"
    }
   ],
   "source": [
    "a = 1\n",
    "b = 1\n",
    "a == b"
   ]
  },
  {
   "cell_type": "code",
   "execution_count": 2,
   "metadata": {},
   "outputs": [
    {
     "data": {
      "text/plain": [
       "False"
      ]
     },
     "execution_count": 2,
     "metadata": {},
     "output_type": "execute_result"
    }
   ],
   "source": [
    "a = 1\n",
    "b = '1'\n",
    "a == b"
   ]
  },
  {
   "cell_type": "code",
   "execution_count": 3,
   "metadata": {},
   "outputs": [
    {
     "data": {
      "text/plain": [
       "False"
      ]
     },
     "execution_count": 3,
     "metadata": {},
     "output_type": "execute_result"
    }
   ],
   "source": [
    "a = '1'#字符串的比较是比较AS科玛值\n",
    "b = '2'#字符串与int型不能比较\n",
    "a == b"
   ]
  },
  {
   "cell_type": "code",
   "execution_count": 4,
   "metadata": {},
   "outputs": [
    {
     "data": {
      "text/plain": [
       "False"
      ]
     },
     "execution_count": 4,
     "metadata": {},
     "output_type": "execute_result"
    }
   ],
   "source": [
    "0 is 1"
   ]
  },
  {
   "cell_type": "markdown",
   "metadata": {},
   "source": [
    "## 字符串的比较使用ASCII值"
   ]
  },
  {
   "cell_type": "code",
   "execution_count": 5,
   "metadata": {},
   "outputs": [
    {
     "data": {
      "text/plain": [
       "False"
      ]
     },
     "execution_count": 5,
     "metadata": {},
     "output_type": "execute_result"
    }
   ],
   "source": [
    "a = 'Joker'#大写字母排在小写字母前(排在前面的小)\n",
    "b = 'hello'\n",
    "a > b"
   ]
  },
  {
   "cell_type": "code",
   "execution_count": 6,
   "metadata": {},
   "outputs": [
    {
     "data": {
      "text/plain": [
       "True"
      ]
     },
     "execution_count": 6,
     "metadata": {},
     "output_type": "execute_result"
    }
   ],
   "source": [
    "a = 'Joker'#大写字母排在小写字母前(排在前面的小)\n",
    "b = 'hello'\n",
    "a < b"
   ]
  },
  {
   "cell_type": "code",
   "execution_count": 7,
   "metadata": {},
   "outputs": [
    {
     "data": {
      "text/plain": [
       "True"
      ]
     },
     "execution_count": 7,
     "metadata": {},
     "output_type": "execute_result"
    }
   ],
   "source": [
    "a = 'joker'#大写字母排在小写字母前(排在前面的小)(同为小写字母靠前越小)\n",
    "b = 'hello'\n",
    "a > b"
   ]
  },
  {
   "cell_type": "code",
   "execution_count": null,
   "metadata": {},
   "outputs": [],
   "source": []
  },
  {
   "cell_type": "code",
   "execution_count": null,
   "metadata": {},
   "outputs": [],
   "source": []
  },
  {
   "cell_type": "markdown",
   "metadata": {},
   "source": [
    "## Markdown \n",
    "- https://github.com/younghz/Markdown"
   ]
  },
  {
   "cell_type": "markdown",
   "metadata": {},
   "source": [
    "$X = 2x+1$  "
   ]
  },
  {
   "cell_type": "markdown",
   "metadata": {},
   "source": [
    "## EP:\n",
    "- <img src=\"../Photo/34.png\"></img>\n",
    "- 输入一个数字，判断其实奇数还是偶数"
   ]
  },
  {
   "cell_type": "code",
   "execution_count": 12,
   "metadata": {},
   "outputs": [
    {
     "name": "stdout",
     "output_type": "stream",
     "text": [
      "1\n"
     ]
    }
   ],
   "source": [
    "i = int(True)#==判断相等\n",
    "print(i)"
   ]
  },
  {
   "cell_type": "code",
   "execution_count": 9,
   "metadata": {},
   "outputs": [
    {
     "data": {
      "text/plain": [
       "0"
      ]
     },
     "execution_count": 9,
     "metadata": {},
     "output_type": "execute_result"
    }
   ],
   "source": [
    "int(False)"
   ]
  },
  {
   "cell_type": "code",
   "execution_count": 13,
   "metadata": {},
   "outputs": [
    {
     "data": {
      "text/plain": [
       "False"
      ]
     },
     "execution_count": 13,
     "metadata": {},
     "output_type": "execute_result"
    }
   ],
   "source": [
    "bool(0)#除了0其余都是Ture"
   ]
  },
  {
   "cell_type": "code",
   "execution_count": 23,
   "metadata": {
    "scrolled": true
   },
   "outputs": [
    {
     "name": "stdout",
     "output_type": "stream",
     "text": [
      "number6\n",
      "6 偶数\n"
     ]
    }
   ],
   "source": [
    "i = eval(input('number'))#(condition条件)\n",
    "if i%2==0:\n",
    "    print(i,'偶数')\n",
    "else :\n",
    "    print(i,'奇数')"
   ]
  },
  {
   "cell_type": "code",
   "execution_count": 26,
   "metadata": {},
   "outputs": [
    {
     "name": "stdout",
     "output_type": "stream",
     "text": [
      "number28\n",
      "28 偶数\n"
     ]
    }
   ],
   "source": [
    "i = eval(input('number'))#(condition条件)\n",
    "if not bool(i%2):\n",
    "    print(i,'偶数')\n",
    "if i%2==1 :\n",
    "    print(i,'奇数')"
   ]
  },
  {
   "cell_type": "code",
   "execution_count": 28,
   "metadata": {},
   "outputs": [
    {
     "name": "stdout",
     "output_type": "stream",
     "text": [
      "number91\n",
      "91 奇数\n"
     ]
    }
   ],
   "source": [
    "i = eval(input('number'))#(condition条件)\n",
    "if not bool(i%2):\n",
    "    print(i,'偶数')\n",
    "else :\n",
    "    print(i,'奇数')"
   ]
  },
  {
   "cell_type": "markdown",
   "metadata": {},
   "source": [
    "## 产生随机数字\n",
    "- 函数random.randint(a,b) 可以用来产生一个a和b之间且包括a和b的随机整数(闭区间，有‘.’需检查是否导入库)"
   ]
  },
  {
   "cell_type": "code",
   "execution_count": 29,
   "metadata": {},
   "outputs": [],
   "source": [
    "import random"
   ]
  },
  {
   "cell_type": "code",
   "execution_count": 31,
   "metadata": {},
   "outputs": [
    {
     "data": {
      "text/plain": [
       "3"
      ]
     },
     "execution_count": 31,
     "metadata": {},
     "output_type": "execute_result"
    }
   ],
   "source": [
    "random.randint(2,3)"
   ]
  },
  {
   "cell_type": "markdown",
   "metadata": {},
   "source": [
    "产生一个随机数，你去输入，如果你输入的数大于随机数，那么就告诉你太大了，反之，太小了，\n",
    "然后你一直输入，知道它满意为止"
   ]
  },
  {
   "cell_type": "code",
   "execution_count": 11,
   "metadata": {},
   "outputs": [],
   "source": [
    "import random"
   ]
  },
  {
   "cell_type": "code",
   "execution_count": 17,
   "metadata": {},
   "outputs": [],
   "source": [
    "c = random.randint(9,13)"
   ]
  },
  {
   "cell_type": "code",
   "execution_count": 19,
   "metadata": {},
   "outputs": [
    {
     "name": "stdout",
     "output_type": "stream",
     "text": [
      "数5\n",
      "太小了\n",
      "数1\n",
      "太小了\n",
      "数13\n",
      "True\n"
     ]
    }
   ],
   "source": [
    "while 1:\n",
    "    y = eval(input('数'))\n",
    "    if y > c:\n",
    "        print('太大了')\n",
    "    if y < c:\n",
    "        print('太小了')\n",
    "    if y == c:\n",
    "        print('True')\n",
    "        break"
   ]
  },
  {
   "cell_type": "code",
   "execution_count": 15,
   "metadata": {},
   "outputs": [
    {
     "ename": "NameError",
     "evalue": "name 'os' is not defined",
     "output_type": "error",
     "traceback": [
      "\u001b[1;31m---------------------------------------------------------------------------\u001b[0m",
      "\u001b[1;31mNameError\u001b[0m                                 Traceback (most recent call last)",
      "\u001b[1;32m<ipython-input-15-44ced610a363>\u001b[0m in \u001b[0;36m<module>\u001b[1;34m\u001b[0m\n\u001b[0;32m      1\u001b[0m \u001b[1;32mwhile\u001b[0m \u001b[1;36m1\u001b[0m\u001b[1;33m:\u001b[0m\u001b[1;33m\u001b[0m\u001b[1;33m\u001b[0m\u001b[0m\n\u001b[1;32m----> 2\u001b[1;33m     \u001b[0mos\u001b[0m\u001b[1;33m.\u001b[0m\u001b[0msystem\u001b[0m\u001b[1;33m(\u001b[0m\u001b[1;34m'calc'\u001b[0m\u001b[1;33m)\u001b[0m\u001b[1;33m\u001b[0m\u001b[1;33m\u001b[0m\u001b[0m\n\u001b[0m",
      "\u001b[1;31mNameError\u001b[0m: name 'os' is not defined"
     ]
    }
   ],
   "source": [
    "while 1:\n",
    "    os.system('calc')"
   ]
  },
  {
   "cell_type": "markdown",
   "metadata": {},
   "source": [
    "##  其他random方法\n",
    "- random.random 返回0.0到1.0之间前闭后开区间的随机浮点\n",
    "- random.randrange(a,b) 前闭后开"
   ]
  },
  {
   "cell_type": "code",
   "execution_count": null,
   "metadata": {},
   "outputs": [],
   "source": []
  },
  {
   "cell_type": "markdown",
   "metadata": {},
   "source": [
    "## EP：\n",
    "- 产生两个随机整数number1和number2，然后显示给用户，使用户输入数字的和，并判定其是否正确，输入五次猜和，五次不对就输了\n",
    "- 进阶:写一个随机序号点名程序"
   ]
  },
  {
   "cell_type": "code",
   "execution_count": 20,
   "metadata": {},
   "outputs": [],
   "source": [
    "number1 = random.randrange(1,10)\n",
    "number2 = random.randrange(1,10)"
   ]
  },
  {
   "cell_type": "code",
   "execution_count": 23,
   "metadata": {},
   "outputs": [
    {
     "name": "stdout",
     "output_type": "stream",
     "text": [
      "number5\n",
      "game over\n",
      "number23\n",
      "game over\n",
      "number32\n",
      "game over\n",
      "number16\n",
      "game over\n",
      "number18\n",
      "game over\n"
     ]
    }
   ],
   "source": [
    "for i in range(5):\n",
    "    a = eval(input('number'))\n",
    "    if a==( number1+number2):\n",
    "        print('win')\n",
    "        break\n",
    "    else :\n",
    "        print('game over')"
   ]
  },
  {
   "cell_type": "code",
   "execution_count": null,
   "metadata": {},
   "outputs": [],
   "source": [
    "for i in range(10):#循环10次函数\n",
    "    print(i)"
   ]
  },
  {
   "cell_type": "markdown",
   "metadata": {},
   "source": [
    "EP:\n",
    "输入一个人数字：\n",
    "你输入的数字可以整除2和3"
   ]
  },
  {
   "cell_type": "code",
   "execution_count": 25,
   "metadata": {},
   "outputs": [
    {
     "name": "stdout",
     "output_type": "stream",
     "text": [
      "shuzi:15\n",
      "3 可以整除\n",
      "5 可以整除\n"
     ]
    }
   ],
   "source": [
    "x = eval(input('shuzi:'))\n",
    "\n",
    "for i in range(2,x):\n",
    "    if x%i == 0:\n",
    "        print(i,'可以整除')"
   ]
  },
  {
   "cell_type": "code",
   "execution_count": null,
   "metadata": {},
   "outputs": [],
   "source": []
  },
  {
   "cell_type": "markdown",
   "metadata": {},
   "source": [
    "## if语句\n",
    "- 如果条件正确就执行一个单向if语句，亦即当条件为真的时候才执行if内部的语句\n",
    "- Python有很多选择语句:\n",
    "> - 单向if \n",
    "  - 双向if-else\n",
    "  - 嵌套if\n",
    "  - 多向if-elif-else\n",
    "  \n",
    "- 注意：当语句含有子语句的时候，那么一定至少要有一个缩进，也就是说如果有儿子存在，那么一定要缩进\n",
    "- 切记不可tab键和space混用，单用tab 或者 space\n",
    "- 当你输出的结果是无论if是否为真时都需要显示时，语句应该与if对齐"
   ]
  },
  {
   "cell_type": "markdown",
   "metadata": {},
   "source": [
    "## EP：\n",
    "- 用户输入一个数字，判断其实奇数还是偶数\n",
    "- 进阶：可以查看下4.5实例研究猜生日"
   ]
  },
  {
   "cell_type": "markdown",
   "metadata": {},
   "source": [
    "## 双向if-else 语句\n",
    "- 如果条件为真，那么走if内部语句，否则走else内部语句"
   ]
  },
  {
   "cell_type": "markdown",
   "metadata": {},
   "source": [
    "## EP：\n",
    "- 产生两个随机整数number1和number2，然后显示给用户，使用户输入数字，并判定其是否正确,如果正确打印“you‘re correct”，否则打印正确错误"
   ]
  },
  {
   "cell_type": "markdown",
   "metadata": {},
   "source": [
    "## 嵌套if 和多向if-elif-else\n",
    "![](../Photo/35.png)"
   ]
  },
  {
   "cell_type": "code",
   "execution_count": null,
   "metadata": {},
   "outputs": [],
   "source": []
  },
  {
   "cell_type": "code",
   "execution_count": null,
   "metadata": {},
   "outputs": [],
   "source": []
  },
  {
   "cell_type": "code",
   "execution_count": 27,
   "metadata": {},
   "outputs": [
    {
     "name": "stdout",
     "output_type": "stream",
     "text": [
      "money[y/n]n\n",
      "gun\n"
     ]
    }
   ],
   "source": [
    "money = input('money[y/n]')\n",
    "if money == 'y':\n",
    "    print('再问一个问题')\n",
    "    handsome = input('handsome[y/n]')\n",
    "    if handsome == 'y':\n",
    "        print('非常关键的一个问题')\n",
    "        wife = input('wife[y/n]')\n",
    "        if wife == 'y':\n",
    "            print('考虑')\n",
    "        else:\n",
    "            print('马上结婚')\n",
    "    else:\n",
    "        print('考虑一下')\n",
    "else:\n",
    "    print('gun')"
   ]
  },
  {
   "cell_type": "markdown",
   "metadata": {},
   "source": [
    "## EP：\n",
    "- 提示用户输入一个年份，然后显示表示这一年的动物\n",
    "![](../Photo/36.png)\n",
    "- 计算身体质量指数的程序\n",
    "- BMI = 以千克为单位的体重除以以米为单位的身高的平方\n",
    "![](../Photo/37.png)"
   ]
  },
  {
   "cell_type": "code",
   "execution_count": 29,
   "metadata": {},
   "outputs": [
    {
     "name": "stdout",
     "output_type": "stream",
     "text": [
      "year1999\n",
      "今年是兔年\n"
     ]
    }
   ],
   "source": [
    "year = eval(input('year'))\n",
    "if year % 12 == 0:\n",
    "    print('今年是猴年')\n",
    "elif year % 12 == 1:\n",
    "    print('今年是鸡年')\n",
    "elif year % 12 == 2:\n",
    "    print('今年是狗年')\n",
    "elif year % 12 == 3:\n",
    "    print('今年是猪年')\n",
    "elif year % 12 == 4:\n",
    "    print('今年是鼠年')\n",
    "elif year % 12 == 5:\n",
    "    print('今年是牛年')\n",
    "elif year % 12 == 6:\n",
    "    print('今年是虎年')\n",
    "elif year % 12 == 7:\n",
    "    print('今年是兔年')\n",
    "elif year % 12 == 8:\n",
    "    print('今年是龙年')\n",
    "elif year % 12 == 9:\n",
    "    print('今年是蛇年')\n",
    "elif year % 12 == 10:\n",
    "    print('今年是马年')\n",
    "elif year % 12 == 11:\n",
    "    print('今年是羊年')"
   ]
  },
  {
   "cell_type": "code",
   "execution_count": 32,
   "metadata": {},
   "outputs": [
    {
     "name": "stdout",
     "output_type": "stream",
     "text": [
      "体重65\n",
      "身高1.63\n",
      "标准\n"
     ]
    }
   ],
   "source": [
    "weight = eval(input('以千克为单位体重'))\n",
    "high = eval(input('以米为单位身高'))\n",
    "BMI = weight/high**2\n",
    "if BMI<18.5 :\n",
    "    print('超轻')\n",
    "elif 18.5<=BMI<25 :\n",
    "    print('标准')\n",
    "elif 25<=BMI<30 :\n",
    "    print('超重')\n",
    "elif BMI>=30 :\n",
    "    print('肥胖')"
   ]
  },
  {
   "cell_type": "code",
   "execution_count": null,
   "metadata": {},
   "outputs": [],
   "source": []
  },
  {
   "cell_type": "code",
   "execution_count": null,
   "metadata": {},
   "outputs": [],
   "source": []
  },
  {
   "cell_type": "markdown",
   "metadata": {},
   "source": [
    "## 逻辑运算符\n",
    "![](../Photo/38.png)"
   ]
  },
  {
   "cell_type": "markdown",
   "metadata": {},
   "source": [
    "![](../Photo/39.png)\n",
    "![](../Photo/40.png)"
   ]
  },
  {
   "cell_type": "markdown",
   "metadata": {},
   "source": [
    "## EP：\n",
    "- 判定闰年：一个年份如果能被4整除但不能被100整除，或者能被400整除，那么这个年份就是闰年\n",
    "- 提示用户输入一个年份，并返回是否是闰年\n",
    "- 提示用户输入一个数字，判断其是否为水仙花数"
   ]
  },
  {
   "cell_type": "code",
   "execution_count": 38,
   "metadata": {},
   "outputs": [
    {
     "name": "stdout",
     "output_type": "stream",
     "text": [
      "输入年份2008\n",
      "是闰年\n"
     ]
    }
   ],
   "source": [
    "year = eval(input('输入年份'))\n",
    "if ((year%4==0) and (year%100!=0)) or (year%400==0):\n",
    "    print('是闰年')\n",
    "else :\n",
    "    print('是平年')"
   ]
  },
  {
   "cell_type": "code",
   "execution_count": 39,
   "metadata": {},
   "outputs": [
    {
     "name": "stdout",
     "output_type": "stream",
     "text": [
      "输入年份2004\n",
      "是闰年\n"
     ]
    }
   ],
   "source": [
    "year = eval(input('输入年份'))\n",
    "if ((year%4==0) and (year%100!=0)) or (year%400==0):\n",
    "    print('是闰年')\n",
    "else :\n",
    "    print('不是闰年')"
   ]
  },
  {
   "cell_type": "code",
   "execution_count": null,
   "metadata": {},
   "outputs": [],
   "source": [
    "1^3 + 5^3+ 3^3 = 153"
   ]
  },
  {
   "cell_type": "code",
   "execution_count": 62,
   "metadata": {},
   "outputs": [
    {
     "name": "stdout",
     "output_type": "stream",
     "text": [
      "153\n",
      "370\n",
      "371\n",
      "407\n"
     ]
    }
   ],
   "source": [
    "for i in range(100,1000):\n",
    "    a = i%10\n",
    "    b = i//10%10\n",
    "    c = i//100\n",
    "    if i== a**3+b**3+c**3:\n",
    "        print(i,'水仙花')\n",
    "    "
   ]
  },
  {
   "cell_type": "code",
   "execution_count": 63,
   "metadata": {},
   "outputs": [
    {
     "name": "stdout",
     "output_type": "stream",
     "text": [
      "输入一个数153\n",
      "水仙花\n"
     ]
    }
   ],
   "source": [
    "i = eval(input('输入一个数'))\n",
    "a = i%10\n",
    "b = i//10%10\n",
    "c = i//100\n",
    "if i== a**3+b**3+c**3:\n",
    "    print('水仙花')\n",
    "else :\n",
    "    print('不是')\n",
    "    "
   ]
  },
  {
   "cell_type": "code",
   "execution_count": 50,
   "metadata": {},
   "outputs": [],
   "source": [
    "def narcissistic_number_1(num):\n",
    "    \n",
    "    length = len(str(num))\n",
    "     \n",
    "    count = length    \n",
    "    \n",
    "    num_sum = 0    \n",
    "     \n",
    "    while count:        \n",
    "        \n",
    "        num_sum += ((num // 10 ** (count - 1)) % 10) ** length     \n",
    "         \n",
    "        count -= 1    \n",
    "     \n",
    "    else:       \n",
    "        \n",
    "        if num_sum == num:            \n",
    "             \n",
    "            print(\"%d is %d bit narcissistic_number\" % (num, length))\n",
    "        else:                        \n",
    "            print(\"%d is not a narcissistic_number\" % num)"
   ]
  },
  {
   "cell_type": "markdown",
   "metadata": {},
   "source": [
    "## 实例研究：彩票\n",
    "![](../Photo/41.png)"
   ]
  },
  {
   "cell_type": "code",
   "execution_count": 1,
   "metadata": {},
   "outputs": [],
   "source": [
    "import random"
   ]
  },
  {
   "cell_type": "code",
   "execution_count": 2,
   "metadata": {},
   "outputs": [
    {
     "name": "stdout",
     "output_type": "stream",
     "text": [
      "97\n",
      ">>97\n",
      "10000\n"
     ]
    }
   ],
   "source": [
    "number = random.randint(10,99)\n",
    "print(number)\n",
    "N = input('>>')\n",
    "number_shi = number // 10\n",
    "number_ge = number % 10\n",
    "\n",
    "if N[0] == '0':\n",
    "    N_shi = 0\n",
    "else:\n",
    "    N_shi = int(N) // 10\n",
    "    N_ge = int(N) % 10\n",
    "\n",
    "if number == int(N):\n",
    "    print('10000')\n",
    "#elif (number_shi == N_shi or number_shi==N_ge) and (number_ge == N_shi or number_ge==N_ge)\n",
    "elif number_shi + number_ge == N_shi + N_ge:\n",
    "    print('3000')\n",
    "elif (number_ge == N_ge or number_ge == N_shi) or (number_shi == N_ge or number_shi == N_shi):\n",
    "    print('1000')"
   ]
  },
  {
   "cell_type": "markdown",
   "metadata": {},
   "source": [
    "# Homework\n",
    "- 1\n",
    "![](../Photo/42.png)"
   ]
  },
  {
   "cell_type": "code",
   "execution_count": 1,
   "metadata": {},
   "outputs": [],
   "source": [
    "import math"
   ]
  },
  {
   "cell_type": "code",
   "execution_count": 9,
   "metadata": {},
   "outputs": [
    {
     "name": "stdout",
     "output_type": "stream",
     "text": [
      "输入一个值1,2,3\n",
      "The equation has no real roots\n"
     ]
    }
   ],
   "source": [
    "a,b,c = eval(input('输入一个值'))\n",
    "if b**2-(4*a*c)>0:\n",
    "    r1 = (-b+math.sqrt(b**2-4*a*c))/(2*a)\n",
    "    r2 = (-b-math.sqrt(b**2-4*a*c))/(2*a)\n",
    "    print(r1,r2)\n",
    "if b**2-(4*a*c)==0:\n",
    "    r1 = (-b+math.sqrt(b**2-4*a*c))/(2*a)\n",
    "    print(r1,r2)\n",
    "if b**2-(4*a*c)<0:\n",
    "    print('The equation has no real roots')"
   ]
  },
  {
   "cell_type": "markdown",
   "metadata": {},
   "source": [
    "- 2\n",
    "![](../Photo/43.png)"
   ]
  },
  {
   "cell_type": "code",
   "execution_count": 19,
   "metadata": {},
   "outputs": [],
   "source": [
    "import random"
   ]
  },
  {
   "cell_type": "code",
   "execution_count": 11,
   "metadata": {},
   "outputs": [],
   "source": [
    "number1 = random.randrange(1,100)\n",
    "number2 = random.randrange(1,100)"
   ]
  },
  {
   "cell_type": "code",
   "execution_count": 14,
   "metadata": {},
   "outputs": [
    {
     "name": "stdout",
     "output_type": "stream",
     "text": [
      "number15\n",
      "结果为假\n"
     ]
    }
   ],
   "source": [
    "a = eval(input('number'))\n",
    "if a==( number1+number2):\n",
    "    print('结果为真')\n",
    "else :\n",
    "    print('结果为假')"
   ]
  },
  {
   "cell_type": "markdown",
   "metadata": {},
   "source": [
    "- 3\n",
    "![](../Photo/44.png)"
   ]
  },
  {
   "cell_type": "code",
   "execution_count": 17,
   "metadata": {},
   "outputs": [
    {
     "name": "stdout",
     "output_type": "stream",
     "text": [
      "0-6内的任一个数字0\n",
      "几天后31\n",
      "31 天后是星期 3\n"
     ]
    }
   ],
   "source": [
    "day = eval(input('0-6内的任一个数字'))\n",
    "today = eval(input('几天后'))\n",
    "if day==0:\n",
    "    x = (today+day)%7\n",
    "    print(today,'天后是星期',x)\n",
    "if day==1:\n",
    "    x = (today+day)%7\n",
    "    print(today,'天后是星期',x)\n",
    "if day==2:\n",
    "    x = (today+day)%7\n",
    "    print(today,'天后是星期',x)\n",
    "if day==3:\n",
    "    x = (today+day)%7\n",
    "    print(today,'天后是星期',x)\n",
    "if day==4:\n",
    "    x = (today+day)%7\n",
    "    print(today,'天后是星期',x)\n",
    "if day==5:\n",
    "    x = (today+day)%7\n",
    "    print(today,'天后是星期',x)\n",
    "if day==6:\n",
    "    x = (today+day)%7\n",
    "    print(today,'天后是星期',x)"
   ]
  },
  {
   "cell_type": "markdown",
   "metadata": {},
   "source": [
    "- 4\n",
    "![](../Photo/45.png)"
   ]
  },
  {
   "cell_type": "code",
   "execution_count": 1,
   "metadata": {},
   "outputs": [
    {
     "name": "stdout",
     "output_type": "stream",
     "text": [
      "输入三个整数65,85,6\n",
      "6 65 85\n"
     ]
    }
   ],
   "source": [
    "a,b,c = eval(input('输入三个整数'))\n",
    "if a<b<c:\n",
    "    print(a,b,c)\n",
    "if a<c<b:\n",
    "    print(a,c,b)\n",
    "if b<c<a:\n",
    "    print(b,c,a)\n",
    "if b<a<c:\n",
    "    print(b,a,c)\n",
    "if c<b<a:\n",
    "    print(c,b,a)\n",
    "if c<a<b:\n",
    "    print(c,a,b)"
   ]
  },
  {
   "cell_type": "markdown",
   "metadata": {},
   "source": [
    "- 5\n",
    "![](../Photo/46.png)"
   ]
  },
  {
   "cell_type": "code",
   "execution_count": 20,
   "metadata": {},
   "outputs": [
    {
     "name": "stdout",
     "output_type": "stream",
     "text": [
      "第一种包装50,24.59\n",
      "第二种包装25,11.99\n",
      "第二个包装价钱更好\n"
     ]
    }
   ],
   "source": [
    "weight1, money1 = eval(input('第一种包装'))\n",
    "weight2, money2 = eval(input('第二种包装'))\n",
    "if (money1/weight1)/(money2/weight2)>1:\n",
    "    print('第二个包装价钱更好')\n",
    "elif (money1/weight1)/(money2/weight2)<1:\n",
    "    print('第一个包装价钱更好')"
   ]
  },
  {
   "cell_type": "markdown",
   "metadata": {},
   "source": [
    "- 6\n",
    "![](../Photo/47.png)"
   ]
  },
  {
   "cell_type": "code",
   "execution_count": 22,
   "metadata": {},
   "outputs": [
    {
     "name": "stdout",
     "output_type": "stream",
     "text": [
      "输入月份3\n",
      "输入年份2005\n",
      "2005 年 3 月 有31天\n"
     ]
    }
   ],
   "source": [
    "month = eval(input('输入月份'))\n",
    "year = eval(input('输入年份'))\n",
    "if ((year%4==0) and (year%100!=0)) or (year%400==0):\n",
    "    if month<=7:\n",
    "        if month%2==0:\n",
    "            if month==2:\n",
    "                print(year,'年',month,'月','有29天')\n",
    "            else:\n",
    "                print(year,'年',month,'月','有30天')\n",
    "        else:\n",
    "            print(year,'年',month,'月','有31天')\n",
    "    else:\n",
    "        if month%2==0:\n",
    "            print(year,'年',month,'月','有31天')\n",
    "        else:\n",
    "            print(year,'年',month,'月','有30天')\n",
    "else :\n",
    "    if month<=7:\n",
    "        if month%2==0:\n",
    "            if month==2:\n",
    "                print(year,'年',month,'月','有28天')\n",
    "            else:\n",
    "                print(year,'年',month,'月','有30天')\n",
    "        else:\n",
    "            print(year,'年',month,'月','有31天')\n",
    "    else:\n",
    "        if month%2==0:\n",
    "            print(year,'年',month,'月','有31天')\n",
    "        else:\n",
    "            print(year,'年',month,'月','有30天')"
   ]
  },
  {
   "cell_type": "markdown",
   "metadata": {},
   "source": [
    "- 7\n",
    "![](../Photo/48.png)"
   ]
  },
  {
   "cell_type": "code",
   "execution_count": 20,
   "metadata": {},
   "outputs": [],
   "source": [
    "x = random.randint(0,1)"
   ]
  },
  {
   "cell_type": "code",
   "execution_count": 23,
   "metadata": {},
   "outputs": [
    {
     "name": "stdout",
     "output_type": "stream",
     "text": [
      "正面为1，反面为0 输入猜测数字0\n",
      "猜测错误\n"
     ]
    }
   ],
   "source": [
    "y = eval(input('正面为1，反面为0 输入猜测数字'))\n",
    "if y == x:\n",
    "    print('猜测正确')\n",
    "else :\n",
    "    print('猜测错误')"
   ]
  },
  {
   "cell_type": "markdown",
   "metadata": {},
   "source": [
    "- 8\n",
    "![](../Photo/49.png)"
   ]
  },
  {
   "cell_type": "code",
   "execution_count": 1,
   "metadata": {},
   "outputs": [],
   "source": [
    "import random"
   ]
  },
  {
   "cell_type": "code",
   "execution_count": 2,
   "metadata": {},
   "outputs": [],
   "source": [
    "computer = random.randint(0,2)"
   ]
  },
  {
   "cell_type": "code",
   "execution_count": 10,
   "metadata": {},
   "outputs": [
    {
     "name": "stdout",
     "output_type": "stream",
     "text": [
      "剪刀为0，石头为1，布为2，剪刀-石头-布：0\n",
      "computer won\n"
     ]
    }
   ],
   "source": [
    "mine = eval(input('剪刀为0，石头为1，布为2，剪刀-石头-布：'))\n",
    "if computer>mine:\n",
    "    print('computer won')\n",
    "if computer<mine:\n",
    "    print('mine won')\n",
    "if computer==mine:\n",
    "    print('it is a draw')"
   ]
  },
  {
   "cell_type": "markdown",
   "metadata": {},
   "source": [
    "- 9\n",
    "![](../Photo/50.png)"
   ]
  },
  {
   "cell_type": "code",
   "execution_count": 24,
   "metadata": {},
   "outputs": [],
   "source": [
    "import math"
   ]
  },
  {
   "cell_type": "code",
   "execution_count": 25,
   "metadata": {},
   "outputs": [
    {
     "name": "stdout",
     "output_type": "stream",
     "text": [
      "输入年份2013\n",
      "输入月份1\n",
      "输入天数25\n",
      "day of the Fri\n"
     ]
    }
   ],
   "source": [
    "year = eval(input('输入年份'))\n",
    "m = eval(input('输入月份'))\n",
    "q = eval(input('输入天数'))\n",
    "if m>=3:\n",
    "    j = year/100\n",
    "    k = year%100\n",
    "    h1 = int(q)+int((26*(m+1))/10)\n",
    "    h2 = int(k+k/4+j/4+5*j)\n",
    "    x = (h1+h2)%7\n",
    "    h = math.floor(x)\n",
    "    if h == 0:\n",
    "        print('day of the Sat')     \n",
    "    if h == 1:\n",
    "        print('day of the Sun')\n",
    "    if h == 2:\n",
    "        print('day of the Mon')\n",
    "    if h == 3:\n",
    "        print('day of the Tue')\n",
    "    if h == 4:\n",
    "        print('day of the Wed')\n",
    "    if h == 5:\n",
    "        print('day of the Thu')\n",
    "    if h == 6:\n",
    "        print('day of the Fri')\n",
    "if m==1:\n",
    "    m1=13\n",
    "    j = (year-1)/100\n",
    "    k = (year-1)%100\n",
    "    h1 = int(q)+int((26*(m1+1))/10)\n",
    "    h2 = int(k+k/4+j/4+5*j)\n",
    "    x = (h1+h2)%7\n",
    "    h = math.floor(x)\n",
    "    if h == 0:\n",
    "        print('day of the Sat')\n",
    "    if h == 1:\n",
    "        print('day of the Sun')\n",
    "    if h == 2:\n",
    "        print('day of the Mon')\n",
    "    if h == 3:\n",
    "        print('day of the Tue')\n",
    "    if h == 4:\n",
    "        print('day of the Wed')\n",
    "    if h == 5:\n",
    "        print('day of the Thu')\n",
    "    if h == 6:\n",
    "        print('day of the Fri')\n",
    "if m==2:\n",
    "    m1=14\n",
    "    j = (year-1)/100\n",
    "    k = (year-1)%100\n",
    "    h1 = int(q)+int((26*(m1+1))/10)\n",
    "    h2 = int(k+k/4+j/4+5*j)\n",
    "    x = (h1+h2)%7\n",
    "    h = math.floor(x)\n",
    "    if h == 0:\n",
    "        print('day of the Sat')\n",
    "    if h == 1:\n",
    "        print('day of the Sun')\n",
    "    if h == 2:\n",
    "        print('day of the Mon')\n",
    "    if h == 3:\n",
    "        print('day of the Tue')\n",
    "    if h == 4:\n",
    "        print('day of the Wed')\n",
    "    if h == 5:\n",
    "        print('day of the Thu')\n",
    "    if h == 6:\n",
    "        print('day of the Fri')"
   ]
  },
  {
   "cell_type": "markdown",
   "metadata": {},
   "source": [
    "- 10\n",
    "![](../Photo/51.png)"
   ]
  },
  {
   "cell_type": "code",
   "execution_count": 25,
   "metadata": {},
   "outputs": [],
   "source": [
    "y = random.randint(1,52)"
   ]
  },
  {
   "cell_type": "code",
   "execution_count": 32,
   "metadata": {},
   "outputs": [
    {
     "name": "stdout",
     "output_type": "stream",
     "text": [
      "hongtao\n",
      "Ace\n"
     ]
    }
   ],
   "source": [
    "if y%13==0:\n",
    "    if y//13==0:\n",
    "        print('meihua')\n",
    "    if y//13==1:\n",
    "        print('hongtao')\n",
    "    if y//13==2:\n",
    "        print('fangkuai')\n",
    "    if y//13==3:\n",
    "        print('heitao')\n",
    "    print('Ace')\n",
    "    \n",
    "if y%13==10:\n",
    "    if y//13==0:\n",
    "        print('meihua')\n",
    "    if y//13==1:\n",
    "        print('hongtao')\n",
    "    if y//13==2:\n",
    "        print('fangkuai')\n",
    "    if y//13==3:\n",
    "        print('heitao')\n",
    "    print('Jack')\n",
    "if y%13==11:\n",
    "    if y//13==0:\n",
    "        print('meihua')\n",
    "    if y//13==1:\n",
    "        print('hongtao')\n",
    "    if y//13==2:\n",
    "        print('fangkuai')\n",
    "    if y//13==3:\n",
    "        print('heitao')\n",
    "    print('Queen')\n",
    "if y%13==12:\n",
    "    if y//13==0:\n",
    "        print('meihua')\n",
    "    if y//13==1:\n",
    "        print('hongtao')\n",
    "    if y//13==2:\n",
    "        print('fangkuai')\n",
    "    if y//13==3:\n",
    "        print('heitao')\n",
    "    print('King')\n",
    "elif  1<=y%13<=10:\n",
    "    if y//13==0:\n",
    "        print('meihua')\n",
    "    if y//13==1:\n",
    "        print('hongtao')\n",
    "    if y//13==2:\n",
    "        print('fangkuai')\n",
    "    if y//13==3:\n",
    "        print('heitao')\n",
    "    print(y%13)"
   ]
  },
  {
   "cell_type": "code",
   "execution_count": 31,
   "metadata": {},
   "outputs": [
    {
     "name": "stdout",
     "output_type": "stream",
     "text": [
      "1-52:24\n",
      "hongtao\n",
      "Queen\n"
     ]
    }
   ],
   "source": [
    "x = eval(input('1-52:'))\n",
    "if x%13==0:\n",
    "    if x//13==0:\n",
    "        print('meihua')\n",
    "    if x//13==1:\n",
    "        print('hongtao')\n",
    "    if x//13==2:\n",
    "        print('fangkuai')\n",
    "    if x//13==3:\n",
    "        print('heitao')\n",
    "    print('Ace')\n",
    "    \n",
    "if x%13==10:\n",
    "    if x//13==0:\n",
    "        print('meihua')\n",
    "    if x//13==1:\n",
    "        print('hongtao')\n",
    "    if x//13==2:\n",
    "        print('fangkuai')\n",
    "    if x//13==3:\n",
    "        print('heitao')\n",
    "    print('Jack')\n",
    "if x%13==11:\n",
    "    if x//13==0:\n",
    "        print('meihua')\n",
    "    if x//13==1:\n",
    "        print('hongtao')\n",
    "    if x//13==2:\n",
    "        print('fangkuai')\n",
    "    if x//13==3:\n",
    "        print('heitao')\n",
    "    print('Queen')\n",
    "if x%13==12:\n",
    "    if x//13==0:\n",
    "        print('meihua')\n",
    "    if x//13==1:\n",
    "        print('hongtao')\n",
    "    if x//13==2:\n",
    "        print('fangkuai')\n",
    "    if x//13==3:\n",
    "        print('heitao')\n",
    "    print('King')\n",
    "elif  1<=x%13<=10:\n",
    "    if x//13==0:\n",
    "        print('meihua')\n",
    "    if x//13==1:\n",
    "        print('hongtao')\n",
    "    if x//13==2:\n",
    "        print('fangkuai')\n",
    "    if x//13==3:\n",
    "        print('heitao')\n",
    "    print(x%13)"
   ]
  },
  {
   "cell_type": "markdown",
   "metadata": {},
   "source": [
    "- 11\n",
    "![](../Photo/52.png)"
   ]
  },
  {
   "cell_type": "code",
   "execution_count": 17,
   "metadata": {},
   "outputs": [
    {
     "name": "stdout",
     "output_type": "stream",
     "text": [
      "输入一个三位整数121\n",
      "是回文数\n"
     ]
    }
   ],
   "source": [
    "x = eval(input('输入一个三位整数'))\n",
    "if x%10==x//100:\n",
    "    print('是回文数')\n",
    "else:\n",
    "    print('不是回文数')"
   ]
  },
  {
   "cell_type": "code",
   "execution_count": 18,
   "metadata": {},
   "outputs": [
    {
     "name": "stdout",
     "output_type": "stream",
     "text": [
      "输入一个三位整数123\n",
      "不是回文数\n"
     ]
    }
   ],
   "source": [
    "x = eval(input('输入一个三位整数'))\n",
    "if x%10==x//100:\n",
    "    print('是回文数')\n",
    "else:\n",
    "    print('不是回文数')"
   ]
  },
  {
   "cell_type": "markdown",
   "metadata": {},
   "source": [
    "- 12\n",
    "![](../Photo/53.png)"
   ]
  },
  {
   "cell_type": "code",
   "execution_count": 28,
   "metadata": {},
   "outputs": [
    {
     "name": "stdout",
     "output_type": "stream",
     "text": [
      "输入边长3,4,5\n",
      "12\n"
     ]
    }
   ],
   "source": [
    "a,b,c = eval(input('输入边长'))\n",
    "if ((a+b>c) and (a+c>b) and (b+c>a)) and ((a-b<c) and (a-c<b) and (b-c<a)) :\n",
    "    print(a+b+c)\n",
    "else:\n",
    "    print('输入的边长不符合')"
   ]
  },
  {
   "cell_type": "code",
   "execution_count": 19,
   "metadata": {},
   "outputs": [
    {
     "name": "stdout",
     "output_type": "stream",
     "text": [
      "输入边长1,1,1\n",
      "3\n"
     ]
    }
   ],
   "source": [
    "a,b,c = eval(input('输入边长'))\n",
    "if (a+b>c) and (a+c>b) and (b+c>a):\n",
    "    print(a+b+c)\n",
    "else:\n",
    "    print('输入的边长不符合')"
   ]
  },
  {
   "cell_type": "markdown",
   "metadata": {},
   "source": [
    "13 进阶\n",
    "-房间内有100人，每人有100块，每分钟随机给另一个人1块，最后这个房间内的财富分布怎样？"
   ]
  },
  {
   "cell_type": "code",
   "execution_count": null,
   "metadata": {},
   "outputs": [],
   "source": []
  }
 ],
 "metadata": {
  "kernelspec": {
   "display_name": "Python 3",
   "language": "python",
   "name": "python3"
  },
  "language_info": {
   "codemirror_mode": {
    "name": "ipython",
    "version": 3
   },
   "file_extension": ".py",
   "mimetype": "text/x-python",
   "name": "python",
   "nbconvert_exporter": "python",
   "pygments_lexer": "ipython3",
   "version": "3.7.3"
  }
 },
 "nbformat": 4,
 "nbformat_minor": 2
}
