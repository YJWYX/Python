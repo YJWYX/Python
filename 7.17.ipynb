{
 "cells": [
  {
   "cell_type": "markdown",
   "metadata": {},
   "source": [
    "# 数学函数、字符串和对象\n",
    "## 本章介绍Python函数来执行常见的数学运算\n",
    "- 函数是完成一个特殊任务的一组语句，可以理解为一个函数相当于一个小功能，但是在开发中，需要注意一个函数的长度最好不要超过一屏PEP8代码规范（体验影响）\n",
    "- Python中的内置函数是不需要Import导入的（导入外面的包）\n",
    "<img src=\"../Photo/15.png\"></img>"
   ]
  },
  {
   "cell_type": "code",
   "execution_count": 2,
   "metadata": {},
   "outputs": [
    {
     "name": "stdout",
     "output_type": "stream",
     "text": [
      "1\n"
     ]
    }
   ],
   "source": [
    "a =  -1\n",
    "print(abs(1))"
   ]
  },
  {
   "cell_type": "code",
   "execution_count": 3,
   "metadata": {},
   "outputs": [
    {
     "data": {
      "text/plain": [
       "5"
      ]
     },
     "execution_count": 3,
     "metadata": {},
     "output_type": "execute_result"
    }
   ],
   "source": [
    "max(1,2,3,4,5)#两种方式\n"
   ]
  },
  {
   "cell_type": "code",
   "execution_count": 4,
   "metadata": {},
   "outputs": [
    {
     "data": {
      "text/plain": [
       "4"
      ]
     },
     "execution_count": 4,
     "metadata": {},
     "output_type": "execute_result"
    }
   ],
   "source": [
    "max(1,1,2,3,4,4)"
   ]
  },
  {
   "cell_type": "code",
   "execution_count": 5,
   "metadata": {},
   "outputs": [
    {
     "data": {
      "text/plain": [
       "-4"
      ]
     },
     "execution_count": 5,
     "metadata": {},
     "output_type": "execute_result"
    }
   ],
   "source": [
    "min(1,2,3,-4,5)"
   ]
  },
  {
   "cell_type": "code",
   "execution_count": 6,
   "metadata": {},
   "outputs": [
    {
     "data": {
      "text/plain": [
       "0"
      ]
     },
     "execution_count": 6,
     "metadata": {},
     "output_type": "execute_result"
    }
   ],
   "source": [
    "pow(4,5,2)"
   ]
  },
  {
   "cell_type": "code",
   "execution_count": 7,
   "metadata": {},
   "outputs": [
    {
     "data": {
      "text/plain": [
       "2"
      ]
     },
     "execution_count": 7,
     "metadata": {},
     "output_type": "execute_result"
    }
   ],
   "source": [
    "pow(2,5,3)"
   ]
  },
  {
   "cell_type": "markdown",
   "metadata": {},
   "source": [
    "## 尝试练习Python内置函数"
   ]
  },
  {
   "cell_type": "code",
   "execution_count": null,
   "metadata": {},
   "outputs": [],
   "source": []
  },
  {
   "cell_type": "markdown",
   "metadata": {},
   "source": [
    "## Python中的math模块提供了许多数学函数\n",
    "<img src=\"../Photo/16.png\"></img>\n",
    "<img src=\"../Photo/17.png\"></img>\n"
   ]
  },
  {
   "cell_type": "code",
   "execution_count": 14,
   "metadata": {},
   "outputs": [],
   "source": [
    "import math   #import math必须导入库才可以使用math中的函数在一个新建的框用来放全部导入的库"
   ]
  },
  {
   "cell_type": "code",
   "execution_count": 22,
   "metadata": {},
   "outputs": [
    {
     "name": "stdout",
     "output_type": "stream",
     "text": [
      "given a number-5\n",
      "10.0\n"
     ]
    }
   ],
   "source": [
    "x = eval(input('given a number'))\n",
    "res = math.fabs(x*2)\n",
    "print(res)"
   ]
  },
  {
   "cell_type": "code",
   "execution_count": 23,
   "metadata": {},
   "outputs": [
    {
     "name": "stdout",
     "output_type": "stream",
     "text": [
      "-2\n"
     ]
    }
   ],
   "source": [
    "b = -2\n",
    "res = math.ceil(b)\n",
    "print(res)"
   ]
  },
  {
   "cell_type": "code",
   "execution_count": 24,
   "metadata": {},
   "outputs": [
    {
     "name": "stdout",
     "output_type": "stream",
     "text": [
      "4\n"
     ]
    }
   ],
   "source": [
    "b = 3.5\n",
    "res = math.ceil(b)#向上取最近的整数既取比它大的\n",
    "print(res)"
   ]
  },
  {
   "cell_type": "code",
   "execution_count": 25,
   "metadata": {},
   "outputs": [
    {
     "name": "stdout",
     "output_type": "stream",
     "text": [
      "3\n"
     ]
    }
   ],
   "source": [
    "b = 3.5\n",
    "res = math.floor(b)#向下取最近的整数既取比它小的\n",
    "print(res)"
   ]
  },
  {
   "cell_type": "code",
   "execution_count": 26,
   "metadata": {},
   "outputs": [
    {
     "name": "stdout",
     "output_type": "stream",
     "text": [
      "20.085536923187668\n"
     ]
    }
   ],
   "source": [
    "c = 3\n",
    "d = math.exp(c)#\n",
    "print(d)"
   ]
  },
  {
   "cell_type": "code",
   "execution_count": 28,
   "metadata": {},
   "outputs": [
    {
     "name": "stdout",
     "output_type": "stream",
     "text": [
      "1.0\n"
     ]
    }
   ],
   "source": [
    "e = 2\n",
    "f = math.log(e,2)#第二个参数是底数\n",
    "print(f)"
   ]
  },
  {
   "cell_type": "code",
   "execution_count": 29,
   "metadata": {},
   "outputs": [
    {
     "data": {
      "text/plain": [
       "1.0"
      ]
     },
     "execution_count": 29,
     "metadata": {},
     "output_type": "execute_result"
    }
   ],
   "source": [
    "math.sin(math.radians(90))"
   ]
  },
  {
   "cell_type": "code",
   "execution_count": 30,
   "metadata": {},
   "outputs": [
    {
     "data": {
      "text/plain": [
       "3.141592653589793"
      ]
     },
     "execution_count": 30,
     "metadata": {},
     "output_type": "execute_result"
    }
   ],
   "source": [
    "math.pi"
   ]
  },
  {
   "cell_type": "markdown",
   "metadata": {},
   "source": [
    "## 两个数学常量PI和e，可以通过使用math.pi 和math.e调用"
   ]
  },
  {
   "cell_type": "markdown",
   "metadata": {},
   "source": [
    "## EP:\n",
    "- 通过math库，写一个程序，使得用户输入三个顶点(x,y)返回三个角度\n",
    "- 注意：Python计算角度为弧度制，需要将其转换为角度\n",
    "<img src=\"../Photo/18.png\">"
   ]
  },
  {
   "cell_type": "code",
   "execution_count": 44,
   "metadata": {},
   "outputs": [
    {
     "name": "stdout",
     "output_type": "stream",
     "text": [
      "输入值1\n",
      "输入值1\n",
      "输入值1\n",
      "60.00000000000001 60.00000000000001 60.00000000000001\n"
     ]
    }
   ],
   "source": [
    "a = eval(input('输入值'))\n",
    "b = eval(input('输入值'))\n",
    "c = eval(input('输入值'))\n",
    "x1 = a * a - b * b - c * c\n",
    "y1 = -2 * b * c\n",
    "A1 =math. acos(x1/y1)\n",
    "A = math.degrees(A1)\n",
    "x2 = b * b - a * a - c * c\n",
    "y2 = -2 * a * c\n",
    "B1 = math. acos(x2/y2)\n",
    "B = math.degrees(B1)\n",
    "x3 = c * c - b * b - a * a\n",
    "y3 = -2 * a * b\n",
    "C1 = math. acos(x3/y3)\n",
    "C = math.degrees(C1)\n",
    "print(A,B,C)"
   ]
  },
  {
   "cell_type": "code",
   "execution_count": 53,
   "metadata": {},
   "outputs": [
    {
     "name": "stdout",
     "output_type": "stream",
     "text": [
      "输入值1\n",
      "输入值1\n",
      "输入值1\n",
      "60.00000000000001 60.00000000000001 60.00000000000001\n"
     ]
    }
   ],
   "source": [
    "a = eval(input('输入值'))\n",
    "b = eval(input('输入值'))\n",
    "c = eval(input('输入值'))\n",
    "A = math.acos((math.pow(a,2)-math.pow(b,2)-math.pow(c,2))/(-2*b*c))\n",
    "B = math.acos((math.pow(b,2)-math.pow(a,2)-math.pow(c,2))/(-2*a*c))\n",
    "C = math.acos((math.pow(c,2)-math.pow(b,2)-math.pow(a,2))/(-2*b*a))\n",
    "A = math.degrees(A)\n",
    "B = math.degrees(B)\n",
    "C = math.degrees(C)\n",
    "print(A,B,C)"
   ]
  },
  {
   "cell_type": "code",
   "execution_count": null,
   "metadata": {},
   "outputs": [],
   "source": [
    "x1 = 0\n",
    "y1 = 0\n",
    "x2 = 0\n",
    "y2 = 1\n",
    "x3 = 1\n",
    "y3 = 0\n",
    "a = math.sqrt((x2-x3)**2 + (y2-y1))\n",
    "b = \n",
    " = a * a - b * b - c * c\n",
    "y1 = -2 * b * c\n",
    "A1 =math. acos(x1/y1)\n",
    "A = math.degrees(A1)\n",
    "x2 = b * b - a * a - c * c\n",
    "y2 = -2 * a * c\n",
    "B1 = math. acos(x2/y2)\n",
    "B = math.degrees(B1)\n",
    "x3 = c * c - b * b - a * a\n",
    "y3 = -2 * a * b\n",
    "C1 = math. acos(x3/y3)\n",
    "C = math.degrees(C1)\n",
    "print(A,B,C)"
   ]
  },
  {
   "cell_type": "code",
   "execution_count": 52,
   "metadata": {},
   "outputs": [
    {
     "name": "stdout",
     "output_type": "stream",
     "text": [
      "输入第一个坐标0,0\n",
      "输入第二个坐标0,1\n",
      "输入第三个坐标1,0\n",
      "90.00000000000001 44.999999999999986 44.999999999999986\n"
     ]
    }
   ],
   "source": [
    "x1,y1 = eval(input('输入第一个坐标'))\n",
    "x2,y2 = eval(input('输入第二个坐标'))\n",
    "x3,y3 = eval(input('输入第三个坐标'))\n",
    "a = math.sqrt((x2-x3)**2+(y2-y3)**2)\n",
    "b = math.sqrt((x1-x3)**2+(y1-y3)**2)\n",
    "c = math.sqrt((x1-x2)**2+(y1-y2)**2)\n",
    "A = math.acos((math.pow(a,2)-math.pow(b,2)-math.pow(c,2))/(-2*b*c))\n",
    "B = math.acos((math.pow(b,2)-math.pow(a,2)-math.pow(c,2))/(-2*a*c))\n",
    "C = math.acos((math.pow(c,2)-math.pow(b,2)-math.pow(a,2))/(-2*b*a))\n",
    "A = math.degrees(A)\n",
    "B = math.degrees(B)\n",
    "C = math.degrees(C)\n",
    "print(A,B,C)"
   ]
  },
  {
   "cell_type": "code",
   "execution_count": null,
   "metadata": {},
   "outputs": [],
   "source": []
  },
  {
   "cell_type": "markdown",
   "metadata": {},
   "source": [
    "## 字符串和字符\n",
    "- 在Python中，字符串必须是在单引号或者双引号内，在多段换行的字符串中可以使用“”“(三个引号可以接收换行符，在三引号里可以继续添加双引号和单引号，三引号可以当文本使用)（当你不给予变量的时候，三引号当注释使用）\\n换行符\n",
    "- 在使用”“”时，给予其变量则变为字符串，否则当多行注释使用"
   ]
  },
  {
   "cell_type": "markdown",
   "metadata": {},
   "source": [
    "## ASCII码与Unicode码\n",
    "- <img src=\"../Photo/19.png\"></img>\n",
    "- <img src=\"../Photo/20.png\"></img>\n",
    "- <img src=\"../Photo/21.png\"></img>"
   ]
  },
  {
   "cell_type": "markdown",
   "metadata": {},
   "source": [
    "## 函数ord、chr\n",
    "- ord 返回ASCII码值\n",
    "- chr 返回字符"
   ]
  },
  {
   "cell_type": "code",
   "execution_count": 50,
   "metadata": {},
   "outputs": [
    {
     "data": {
      "text/plain": [
       "97"
      ]
     },
     "execution_count": 50,
     "metadata": {},
     "output_type": "execute_result"
    }
   ],
   "source": [
    "ord('a')"
   ]
  },
  {
   "cell_type": "code",
   "execution_count": 51,
   "metadata": {},
   "outputs": [
    {
     "data": {
      "text/plain": [
       "'a'"
      ]
     },
     "execution_count": 51,
     "metadata": {},
     "output_type": "execute_result"
    }
   ],
   "source": [
    "chr(97)"
   ]
  },
  {
   "cell_type": "markdown",
   "metadata": {},
   "source": [
    "## EP:\n",
    "- 利用ord与chr进行简单邮箱加密"
   ]
  },
  {
   "cell_type": "code",
   "execution_count": 79,
   "metadata": {},
   "outputs": [
    {
     "data": {
      "text/plain": [
       "'`rs4jtu\\x01'"
      ]
     },
     "execution_count": 79,
     "metadata": {},
     "output_type": "execute_result"
    }
   ],
   "source": [
    "\n",
    "chr(ord('@')+32)+chr(ord('q')+1)+chr(ord('q')+2)+chr(ord('.')+6)+chr(ord('c')+7)+chr(ord('o')+5)+chr(ord('m')+8)+chr(1)"
   ]
  },
  {
   "cell_type": "code",
   "execution_count": 77,
   "metadata": {},
   "outputs": [
    {
     "name": "stdout",
     "output_type": "stream",
     "text": [
      "k̐\n"
     ]
    }
   ],
   "source": [
    "a = chr(ord('a')+10)\n",
    "b = chr(ord('b')*8)\n",
    "print(a+b)"
   ]
  },
  {
   "cell_type": "markdown",
   "metadata": {},
   "source": [
    "## 转义序列 \\\n",
    "- a = \"He said,\"Johon's program is easy to read\"\n",
    "- 转掉它原来的意思\n",
    "- 一般情况下只有当语句与默认方法相撞的时候，就需要转义"
   ]
  },
  {
   "cell_type": "code",
   "execution_count": null,
   "metadata": {},
   "outputs": [],
   "source": [
    "a = \"He said,\"Johon's program is easy to read\""
   ]
  },
  {
   "cell_type": "code",
   "execution_count": null,
   "metadata": {},
   "outputs": [],
   "source": [
    "a = \"He said,\\\"Johon's program is easy to read\""
   ]
  },
  {
   "cell_type": "code",
   "execution_count": 49,
   "metadata": {},
   "outputs": [],
   "source": [
    "#1.三引号和单/双引号的区别是：\n",
    "#-三引号内可以使用换行，单/双引号\n",
    "#-三引号如果不加变量的话，代表是注释（可以换行注释）\n",
    "#2. 单/双引号内是不是可以加入单/双引号的，但是可以加入双/单\n",
    "#3. 如果非要这样，可以使用“\\”（转义字符），表示转掉它原来的意思"
   ]
  },
  {
   "cell_type": "code",
   "execution_count": null,
   "metadata": {},
   "outputs": [],
   "source": [
    "b = \"Joker\"old'a'"
   ]
  },
  {
   "cell_type": "code",
   "execution_count": null,
   "metadata": {},
   "outputs": [],
   "source": [
    "c = \"Joker is a 'man'\"#双引号里可以添加单引号使用"
   ]
  },
  {
   "cell_type": "markdown",
   "metadata": {},
   "source": [
    "## 高级print\n",
    "- 参数 end： 以什么方式结束打印\n",
    "- 默认换行打印"
   ]
  },
  {
   "cell_type": "code",
   "execution_count": 80,
   "metadata": {},
   "outputs": [
    {
     "name": "stdout",
     "output_type": "stream",
     "text": [
      "wyx~~~wuu\n"
     ]
    }
   ],
   "source": [
    "print('wyx',end='~~~')\n",
    "print('wuu')"
   ]
  },
  {
   "cell_type": "code",
   "execution_count": 82,
   "metadata": {},
   "outputs": [
    {
     "name": "stdout",
     "output_type": "stream",
     "text": [
      "wyx is haha\n",
      "wuu\n"
     ]
    }
   ],
   "source": [
    "print('wyx','is','haha')\n",
    "print('wuu')"
   ]
  },
  {
   "cell_type": "code",
   "execution_count": 81,
   "metadata": {},
   "outputs": [
    {
     "name": "stdout",
     "output_type": "stream",
     "text": [
      "wyx\n",
      "wuu\n"
     ]
    }
   ],
   "source": [
    "print('wyx')\n",
    "print('wuu')"
   ]
  },
  {
   "cell_type": "code",
   "execution_count": 83,
   "metadata": {
    "scrolled": true
   },
   "outputs": [
    {
     "name": "stdout",
     "output_type": "stream",
     "text": [
      "wyx***is***haha\n",
      "wuu\n"
     ]
    }
   ],
   "source": [
    "print('wyx','is','haha',sep=\"***\")#flush刷新flush=f\n",
    "print('wuu')"
   ]
  },
  {
   "cell_type": "code",
   "execution_count": 84,
   "metadata": {
    "scrolled": true
   },
   "outputs": [
    {
     "name": "stdout",
     "output_type": "stream",
     "text": [
      "01234"
     ]
    }
   ],
   "source": [
    "import sys,time\n",
    "for i in range(5):\n",
    "    print(i,flush=True,end='')\n",
    "    time.sleep(1)"
   ]
  },
  {
   "cell_type": "code",
   "execution_count": 1,
   "metadata": {},
   "outputs": [
    {
     "name": "stdout",
     "output_type": "stream",
     "text": [
      "119/120\r"
     ]
    }
   ],
   "source": [
    "import sys,time\n",
    "for i in range(120):\n",
    "    print('{}/{}\\r'.format(i,120),flush=True,end='')\n",
    "    time.sleep(1)"
   ]
  },
  {
   "cell_type": "markdown",
   "metadata": {},
   "source": [
    "## 函数str\n",
    "- 将类型强制转换成字符串类型\n",
    "- 其他一些以后会学到(list,set,tuple...)"
   ]
  },
  {
   "cell_type": "markdown",
   "metadata": {},
   "source": [
    "## 字符串连接操作\n",
    "- 直接使用 “+” \n",
    "- join() 函数 "
   ]
  },
  {
   "cell_type": "code",
   "execution_count": null,
   "metadata": {},
   "outputs": [],
   "source": [
    "a =100\n",
    "str\n",
    "float\n",
    "int\n",
    "\n"
   ]
  },
  {
   "cell_type": "markdown",
   "metadata": {},
   "source": [
    "## EP：\n",
    "- 将 “Welcome” “to” \"Python\" 拼接\n",
    "- 将int型 100 与 “joker is a bad man” 拼接\n",
    "- 从控制台读取字符串\n",
    "> 输入一个名字返回夸奖此人"
   ]
  },
  {
   "cell_type": "code",
   "execution_count": 85,
   "metadata": {},
   "outputs": [
    {
     "name": "stdout",
     "output_type": "stream",
     "text": [
      "WelcometoPython\n"
     ]
    }
   ],
   "source": [
    "a = 'Welcome'\n",
    "b = 'to'\n",
    "c = 'Python'\n",
    "print(a+b+c)"
   ]
  },
  {
   "cell_type": "code",
   "execution_count": 2,
   "metadata": {
    "scrolled": true
   },
   "outputs": [
    {
     "name": "stdout",
     "output_type": "stream",
     "text": [
      "joker is a bad man100\n"
     ]
    }
   ],
   "source": [
    "x= ('joker is a bad man')\n",
    "x1 = str(100)\n",
    "print(x+x1)"
   ]
  },
  {
   "cell_type": "code",
   "execution_count": 3,
   "metadata": {},
   "outputs": [
    {
     "name": "stdout",
     "output_type": "stream",
     "text": [
      "请输入名字崔宇\n",
      "崔宇 真美\n"
     ]
    }
   ],
   "source": [
    "sre = input('请输入名字')\n",
    "print(sre,'真美')"
   ]
  },
  {
   "cell_type": "code",
   "execution_count": null,
   "metadata": {},
   "outputs": [],
   "source": []
  },
  {
   "cell_type": "markdown",
   "metadata": {},
   "source": [
    "## 实例研究：最小数量硬币\n",
    "- 开发一个程序，让用户输入总金额，这是一个用美元和美分表示的浮点值，返回一个由美元、两角五分的硬币、一角的硬币、五分硬币、以及美分个数\n",
    "<img src=\"../Photo/22.png\"></img>"
   ]
  },
  {
   "cell_type": "markdown",
   "metadata": {},
   "source": [
    "- Python弱项，对于浮点型的处理并不是很好，但是处理数据的时候使用的是Numpy类型\n",
    "<img src=\"../Photo/23.png\"></img>"
   ]
  },
  {
   "cell_type": "markdown",
   "metadata": {},
   "source": [
    "## id与type\n",
    "- id 查看内存地址，在判断语句中将会使用\n",
    "- type 查看元素类型"
   ]
  },
  {
   "cell_type": "markdown",
   "metadata": {},
   "source": [
    "## 其他格式化语句见书"
   ]
  },
  {
   "cell_type": "markdown",
   "metadata": {},
   "source": [
    "# Homework\n",
    "- 1\n",
    "<img src=\"../Photo/24.png\"><img>\n",
    "<img src=\"../Photo/25.png\"><img>"
   ]
  },
  {
   "cell_type": "code",
   "execution_count": 2,
   "metadata": {},
   "outputs": [],
   "source": [
    "import math"
   ]
  },
  {
   "cell_type": "code",
   "execution_count": 5,
   "metadata": {},
   "outputs": [
    {
     "name": "stdout",
     "output_type": "stream",
     "text": [
      "输入距离5.5\n",
      "71.923649044821\n"
     ]
    }
   ],
   "source": [
    "r = eval(input('输入距离'))\n",
    "s = 2*r*(math.sin (math.pi/5))\n",
    "Area = 5*s*s/(4*math.tan(math.pi/5))\n",
    "print(Area)"
   ]
  },
  {
   "cell_type": "markdown",
   "metadata": {},
   "source": [
    "- 2\n",
    "<img src=\"../Photo/26.png\"><img>"
   ]
  },
  {
   "cell_type": "code",
   "execution_count": 10,
   "metadata": {},
   "outputs": [
    {
     "name": "stdout",
     "output_type": "stream",
     "text": [
      "输入第一个经度纬度39.55,-116.25\n",
      "输入第二个经度纬度41.5,87.37\n",
      "10691.77505037424\n"
     ]
    }
   ],
   "source": [
    "x1,y1 = eval(input('输入第一个经度纬度'))\n",
    "x2,y2 = eval(input('输入第二个经度纬度'))\n",
    "d1 = math.sin(math.radians(x1))*math.sin(math.radians(x2))+math.cos(math.radians(x1))*math.cos(math.radians(x2))*math.cos(math.radians(y1-y2))\n",
    "d = 6371.0*math.acos(d1)\n",
    "print(d)"
   ]
  },
  {
   "cell_type": "markdown",
   "metadata": {},
   "source": [
    "- 3\n",
    "<img src=\"../Photo/27.png\"><img>"
   ]
  },
  {
   "cell_type": "code",
   "execution_count": 11,
   "metadata": {},
   "outputs": [
    {
     "name": "stdout",
     "output_type": "stream",
     "text": [
      "输入一个边长5.5\n",
      "52.044441367816255\n"
     ]
    }
   ],
   "source": [
    "s = eval(input('输入一个边长'))\n",
    "Area1 = 5*s**2\n",
    "Area2 = 4*math.tan(math.pi/5)\n",
    "Area = Area1/Area2\n",
    "print(Area)"
   ]
  },
  {
   "cell_type": "markdown",
   "metadata": {},
   "source": [
    "- 4\n",
    "<img src=\"../Photo/28.png\"><img>"
   ]
  },
  {
   "cell_type": "code",
   "execution_count": 12,
   "metadata": {},
   "outputs": [
    {
     "name": "stdout",
     "output_type": "stream",
     "text": [
      "输入一个边长6.5\n",
      "输入一个边数5\n",
      "72.69017017488386\n"
     ]
    }
   ],
   "source": [
    "s = eval(input('输入一个边长'))\n",
    "n = eval(input('输入一个边数'))\n",
    "Area1 = n*s**2\n",
    "Area2 = 4*math.tan(math.pi/n)\n",
    "Area = Area1/Area2\n",
    "print(Area)"
   ]
  },
  {
   "cell_type": "markdown",
   "metadata": {},
   "source": [
    "- 5\n",
    "<img src=\"../Photo/29.png\"><img>\n",
    "<img src=\"../Photo/30.png\"><img>"
   ]
  },
  {
   "cell_type": "code",
   "execution_count": 6,
   "metadata": {},
   "outputs": [
    {
     "name": "stdout",
     "output_type": "stream",
     "text": [
      "输入0-127之间的整数69\n"
     ]
    },
    {
     "data": {
      "text/plain": [
       "'E'"
      ]
     },
     "execution_count": 6,
     "metadata": {},
     "output_type": "execute_result"
    }
   ],
   "source": [
    "zifu = eval(input('输入0-127之间的整数'))\n",
    "chr(zifu)"
   ]
  },
  {
   "cell_type": "markdown",
   "metadata": {},
   "source": [
    "- 6\n",
    "<img src=\"../Photo/31.png\"><img>"
   ]
  },
  {
   "cell_type": "code",
   "execution_count": 19,
   "metadata": {},
   "outputs": [
    {
     "name": "stdout",
     "output_type": "stream",
     "text": [
      "请输入名字Smith\n",
      "请输入工作时间10\n",
      "请输入每小时报酬9.75\n",
      "请输入联邦预扣税率0.20\n",
      "请输入州预扣税率0.09\n",
      "Smith\n",
      "10\n",
      "9.75\n",
      "97.5\n",
      "Deductions:\n",
      "Federal Withholding(20.0%): 19.5\n",
      "Stata Withholding(9.0%): 8.775\n",
      "Total Deduction: 28.275000000000006\n",
      "69.225\n"
     ]
    }
   ],
   "source": [
    "sre = input('请输入名字')\n",
    "time = eval(input('请输入工作时间'))\n",
    "pay = eval(input('请输入每小时报酬'))\n",
    "fed = eval(input('请输入联邦预扣税率'))\n",
    "sta = eval(input('请输入州预扣税率'))\n",
    "gross = eval('time*pay')\n",
    "fed_wit = eval('fed*gross')\n",
    "sta_wit = eval('sta*gross')\n",
    "net = eval('gross-fed_wit-sta_wit')\n",
    "ded = eval('gross-ded')\n",
    "print(sre)\n",
    "print(time)\n",
    "print(pay)\n",
    "print(gross)\n",
    "print('Deductions:')\n",
    "print('Federal Withholding(20.0%):',fed_wit)\n",
    "print('Stata Withholding(9.0%):',sta_wit)\n",
    "print('Total Deduction:',ded)\n",
    "print(net)"
   ]
  },
  {
   "cell_type": "markdown",
   "metadata": {},
   "source": [
    "- 7\n",
    "<img src=\"../Photo/32.png\"><img>"
   ]
  },
  {
   "cell_type": "code",
   "execution_count": 28,
   "metadata": {},
   "outputs": [
    {
     "name": "stdout",
     "output_type": "stream",
     "text": [
      "5 2 1 3\n"
     ]
    }
   ],
   "source": [
    "x = 3125\n",
    "a = x%312\n",
    "b = x//10%31\n",
    "c = x//100%3\n",
    "d = x//1000\n",
    "print(a,b,c,d)"
   ]
  },
  {
   "cell_type": "markdown",
   "metadata": {},
   "source": [
    "- 8 进阶：\n",
    "> 加密一串文本，并将解密后的文件写入本地保存"
   ]
  },
  {
   "cell_type": "code",
   "execution_count": 39,
   "metadata": {},
   "outputs": [
    {
     "name": "stdout",
     "output_type": "stream",
     "text": [
      "ƨ}昞𺀗囟\n"
     ]
    }
   ],
   "source": [
    "a = chr(ord('j')*4)+chr(ord('t')+9)+chr(ord('星')-1)+chr(ord('期')*9)+chr(ord('四')+4)\n",
    "print(a)"
   ]
  },
  {
   "cell_type": "code",
   "execution_count": null,
   "metadata": {},
   "outputs": [],
   "source": []
  }
 ],
 "metadata": {
  "kernelspec": {
   "display_name": "Python 3",
   "language": "python",
   "name": "python3"
  },
  "language_info": {
   "codemirror_mode": {
    "name": "ipython",
    "version": 3
   },
   "file_extension": ".py",
   "mimetype": "text/x-python",
   "name": "python",
   "nbconvert_exporter": "python",
   "pygments_lexer": "ipython3",
   "version": "3.7.3"
  }
 },
 "nbformat": 4,
 "nbformat_minor": 2
}
