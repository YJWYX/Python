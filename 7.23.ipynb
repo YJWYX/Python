{
 "cells": [
  {
   "cell_type": "markdown",
   "metadata": {},
   "source": [
    "# 对象和类\n",
    "- 一个学生，一张桌子，一个圆都是对象\n",
    "- 对象是类的一个实例，你可以创建多个对象，创建类的一个实例过程被称为实例化，\n",
    "- 在Python中对象就是实例，而实例就是对象"
   ]
  },
  {
   "cell_type": "markdown",
   "metadata": {},
   "source": [
    "## 定义类\n",
    "class ClassName:\n",
    "\n",
    "    do something  #执行体\n",
    "    \n",
    "- class 类的表示与def 一样\n",
    "- 类名最好使用驼峰式\n",
    "- 在Python2中类是需要继承基类object的，在Python中默认继承，可写可不写\n",
    "- 可以将普通代码理解为皮肤，而函数可以理解为内衣，那么类可以理解为外套"
   ]
  },
  {
   "cell_type": "code",
   "execution_count": 45,
   "metadata": {},
   "outputs": [],
   "source": [
    "#类必须初始化，是用self，初始化自身。( )括号中是谁都行\n",
    "#类里面的第一个函数变量不在是参数，而是印记。再定义一个函数时括号中要加入印记，还可再加入参数，这时只有一个参数。\n",
    "#在调用前的函数必须加上初始化了的印记，不然不能使用。\n",
    "class Jokar:\n",
    "    def __init__(self):\n",
    "        print('我初始化了')\n",
    "    def Print_(self):\n",
    "        print('Jokar hahaha')\n",
    "    "
   ]
  },
  {
   "cell_type": "code",
   "execution_count": 46,
   "metadata": {},
   "outputs": [
    {
     "name": "stdout",
     "output_type": "stream",
     "text": [
      "我初始化了\n"
     ]
    },
    {
     "data": {
      "text/plain": [
       "<__main__.Jokar at 0x1c8f2404940>"
      ]
     },
     "execution_count": 46,
     "metadata": {},
     "output_type": "execute_result"
    }
   ],
   "source": [
    "Jokar()"
   ]
  },
  {
   "cell_type": "code",
   "execution_count": 11,
   "metadata": {},
   "outputs": [],
   "source": [
    "class Jokar:\n",
    "    def __init__(self):\n",
    "        print('我初始化了')\n",
    "    def SUM(self,num1,num2):\n",
    "        return num1+num2\n",
    "    def cheng(self,num1,num2):\n",
    "        return num1*num2"
   ]
  },
  {
   "cell_type": "code",
   "execution_count": 19,
   "metadata": {},
   "outputs": [],
   "source": [
    "#在一个类中，如果有参数需要多次使用，那么就可以将其设置为共享参数\n",
    "class Jokar:\n",
    "    def __init__(self,num1,num2):\n",
    "        print('我初始化了')\n",
    "        self.num1 = num1  #参数共享\n",
    "        self.num2 = num2\n",
    "    def SUM(self,name):\n",
    "        return self.num1+self.num2\n",
    "    def cheng(self):\n",
    "        return self.num1*self.num2"
   ]
  },
  {
   "cell_type": "code",
   "execution_count": 20,
   "metadata": {},
   "outputs": [
    {
     "name": "stdout",
     "output_type": "stream",
     "text": [
      "我初始化了\n"
     ]
    }
   ],
   "source": [
    "yj = Jokar(num1 = 1,num2 = 2)"
   ]
  },
  {
   "cell_type": "code",
   "execution_count": 21,
   "metadata": {},
   "outputs": [
    {
     "data": {
      "text/plain": [
       "3"
      ]
     },
     "execution_count": 21,
     "metadata": {},
     "output_type": "execute_result"
    }
   ],
   "source": [
    "yj.SUM(name='jjj')"
   ]
  },
  {
   "cell_type": "code",
   "execution_count": 22,
   "metadata": {},
   "outputs": [
    {
     "data": {
      "text/plain": [
       "2"
      ]
     },
     "execution_count": 22,
     "metadata": {},
     "output_type": "execute_result"
    }
   ],
   "source": [
    "yj.cheng()"
   ]
  },
  {
   "cell_type": "markdown",
   "metadata": {},
   "source": [
    "# 练习  第一个判断奇偶，第二个判断闰年平年"
   ]
  },
  {
   "cell_type": "code",
   "execution_count": 47,
   "metadata": {},
   "outputs": [
    {
     "ename": "SyntaxError",
     "evalue": "invalid syntax (<ipython-input-47-8032d0547a56>, line 4)",
     "output_type": "error",
     "traceback": [
      "\u001b[1;36m  File \u001b[1;32m\"<ipython-input-47-8032d0547a56>\"\u001b[1;36m, line \u001b[1;32m4\u001b[0m\n\u001b[1;33m    def ji(self,numb1)\u001b[0m\n\u001b[1;37m                      ^\u001b[0m\n\u001b[1;31mSyntaxError\u001b[0m\u001b[1;31m:\u001b[0m invalid syntax\n"
     ]
    }
   ],
   "source": [
    "class Panduan:\n",
    "    def __init__(self):\n",
    "        print('初始化')\n",
    "    def ji(self,numb1)\n",
    "        if num1%2==0:\n",
    "            print('偶数')\n",
    "        else:\n",
    "            print('奇数')\n",
    "    def nian(self,numb2):\n",
    "        if ((num2%4==0) and (num2%100!=0)) or (num2%400==0):\n",
    "            print('闰年')\n",
    "        else:\n",
    "            print('平年')"
   ]
  },
  {
   "cell_type": "code",
   "execution_count": 62,
   "metadata": {},
   "outputs": [],
   "source": [
    "class Panduan:\n",
    "    def __init__(self):\n",
    "        print('初始化')\n",
    "    def jiou(self,numb1):\n",
    "        if numb1%2==0:\n",
    "            print('偶数')\n",
    "        else:\n",
    "            print('奇数')\n",
    "    def nian(self,numb2):\n",
    "        if ((numb2%4==0) and (numb2%100!=0)) or (numb2%400==0):\n",
    "            print('闰年')\n",
    "        else:\n",
    "            print('平年')"
   ]
  },
  {
   "cell_type": "code",
   "execution_count": 63,
   "metadata": {},
   "outputs": [
    {
     "name": "stdout",
     "output_type": "stream",
     "text": [
      "初始化\n"
     ]
    }
   ],
   "source": [
    "a = Panduan()"
   ]
  },
  {
   "cell_type": "code",
   "execution_count": 64,
   "metadata": {},
   "outputs": [
    {
     "name": "stdout",
     "output_type": "stream",
     "text": [
      "奇数\n"
     ]
    }
   ],
   "source": [
    "a.jiou(numb1=3)"
   ]
  },
  {
   "cell_type": "code",
   "execution_count": 65,
   "metadata": {},
   "outputs": [
    {
     "name": "stdout",
     "output_type": "stream",
     "text": [
      "闰年\n"
     ]
    }
   ],
   "source": [
    "a.nian(numb2=2012)"
   ]
  },
  {
   "cell_type": "markdown",
   "metadata": {},
   "source": [
    "\n",
    "\n",
    "\n",
    "\n",
    ".## 定义一个不含初始化__init__的简单类\n",
    "class ClassName:\n",
    "\n",
    "    joker = “Home”\n",
    "    \n",
    "    def func():\n",
    "        print('Worker')\n",
    "    \n",
    "- 尽量少使用"
   ]
  },
  {
   "cell_type": "markdown",
   "metadata": {},
   "source": [
    "\n",
    "\n",
    "## 定义一个标准类\n",
    "- __init__ 代表初始化，可以初始化任何动作\n",
    "- 此时类调用要使用()，其中（）可以理解为开始初始化\n",
    "- 初始化内的元素，类中其他的函数可以共享\n",
    "![](../Photo/85.png)"
   ]
  },
  {
   "cell_type": "markdown",
   "metadata": {},
   "source": [
    "- Circle 和 className_ 的第一个区别有 __init__ 这个函数\n",
    "- 。。。。   第二个区别，类中的每一个函数都有self的这个“参数”"
   ]
  },
  {
   "cell_type": "markdown",
   "metadata": {},
   "source": [
    "## 何为self？\n",
    "- self 是指向对象本身的参数\n",
    "- self 只是一个命名规则，其实可以改变的，但是我们约定俗成的是self，也便于理解\n",
    "- 使用了self就可以访问类中定义的成员\n",
    "<img src=\"../Photo/86.png\"></img>"
   ]
  },
  {
   "cell_type": "markdown",
   "metadata": {},
   "source": [
    "## 使用类 Cirlcle"
   ]
  },
  {
   "cell_type": "markdown",
   "metadata": {},
   "source": [
    "## 类的传参\n",
    "- class ClassName:\n",
    "    \n",
    "        def __init__(self, para1,para2...)：\n",
    "            \n",
    "            self.para1 = para1\n",
    "            \n",
    "            self.para2 = para2"
   ]
  },
  {
   "cell_type": "markdown",
   "metadata": {},
   "source": [
    "## EP:\n",
    "- A：定义一个类，类中含有两个功能：\n",
    "    - 1、产生3个随机数，获取最大值\n",
    "    - 2、产生3个随机数，获取最小值\n",
    "- B：定义一个类，（类中函数的嵌套使用）\n",
    "    - 1、第一个函数的功能为：输入一个数字\n",
    "    - 2、第二个函数的功能为：使用第一个函数中得到的数字进行平方处理\n",
    "    - 3、第三个函数的功能为：得到平方处理后的数字 - 原来输入的数字，并打印结果"
   ]
  },
  {
   "cell_type": "code",
   "execution_count": 38,
   "metadata": {},
   "outputs": [],
   "source": [
    "import random"
   ]
  },
  {
   "cell_type": "code",
   "execution_count": 77,
   "metadata": {},
   "outputs": [],
   "source": [
    "class ZDzj:\n",
    "    def __init__(sell):\n",
    "        print('csh')\n",
    "    def Zuida(sell):\n",
    "        a = random.randint(0,9)\n",
    "        b = random.randint(0,9)\n",
    "        c = random.randint(0,9)\n",
    "        print(a,b,c)\n",
    "        return max(a,b,c)\n",
    "    def Zuixiao(sell):\n",
    "        a1 = random.randint(0,9)\n",
    "        b1 = random.randint(0,9)\n",
    "        c1 = random.randint(0,9)\n",
    "        print(a1,b1,c1)\n",
    "        return min(a1,b1,c1)"
   ]
  },
  {
   "cell_type": "code",
   "execution_count": 78,
   "metadata": {},
   "outputs": [
    {
     "name": "stdout",
     "output_type": "stream",
     "text": [
      "csh\n"
     ]
    }
   ],
   "source": [
    "a = ZDzj()"
   ]
  },
  {
   "cell_type": "code",
   "execution_count": 79,
   "metadata": {},
   "outputs": [
    {
     "name": "stdout",
     "output_type": "stream",
     "text": [
      "1 2 1\n"
     ]
    },
    {
     "data": {
      "text/plain": [
       "2"
      ]
     },
     "execution_count": 79,
     "metadata": {},
     "output_type": "execute_result"
    }
   ],
   "source": [
    "a.Zuida()"
   ]
  },
  {
   "cell_type": "code",
   "execution_count": 80,
   "metadata": {},
   "outputs": [
    {
     "name": "stdout",
     "output_type": "stream",
     "text": [
      "5 8 0\n"
     ]
    },
    {
     "data": {
      "text/plain": [
       "0"
      ]
     },
     "execution_count": 80,
     "metadata": {},
     "output_type": "execute_result"
    }
   ],
   "source": [
    "a.Zuixiao()"
   ]
  },
  {
   "cell_type": "code",
   "execution_count": 94,
   "metadata": {},
   "outputs": [],
   "source": [
    "class Diaoyong():\n",
    "    def __init__(self):\n",
    "        print('csh')\n",
    "    def numb(self):\n",
    "        self.num = eval(input('>>'))\n",
    "        print('输入数字是：',self.num)\n",
    "    def ping(self):\n",
    "        self.b = self.num**2\n",
    "        print('平方是：',self.b)\n",
    "    def jia(self):\n",
    "        self.cha = self.b-self.num\n",
    "        print('两者差：',self.cha)"
   ]
  },
  {
   "cell_type": "code",
   "execution_count": 95,
   "metadata": {},
   "outputs": [
    {
     "name": "stdout",
     "output_type": "stream",
     "text": [
      "csh\n"
     ]
    }
   ],
   "source": [
    "d=Diaoyong()"
   ]
  },
  {
   "cell_type": "code",
   "execution_count": 96,
   "metadata": {},
   "outputs": [
    {
     "name": "stdout",
     "output_type": "stream",
     "text": [
      ">>2\n",
      "输入数字是： 2\n"
     ]
    }
   ],
   "source": [
    "d.numb()"
   ]
  },
  {
   "cell_type": "code",
   "execution_count": 97,
   "metadata": {},
   "outputs": [
    {
     "name": "stdout",
     "output_type": "stream",
     "text": [
      "平方是： 4\n"
     ]
    }
   ],
   "source": [
    "d.ping()"
   ]
  },
  {
   "cell_type": "code",
   "execution_count": 99,
   "metadata": {},
   "outputs": [
    {
     "name": "stdout",
     "output_type": "stream",
     "text": [
      "两者差： 2\n"
     ]
    }
   ],
   "source": [
    "d.jia()"
   ]
  },
  {
   "cell_type": "code",
   "execution_count": null,
   "metadata": {},
   "outputs": [],
   "source": []
  },
  {
   "cell_type": "code",
   "execution_count": 112,
   "metadata": {},
   "outputs": [],
   "source": [
    "class Diaoyong():\n",
    "    def __init__(self):\n",
    "        print('csh')\n",
    "    def numb(self):\n",
    "        num = eval(input('>>'))\n",
    "        print('输入数字是：',num)\n",
    "        return num\n",
    "    def ping(self):\n",
    "        num = self.numb()\n",
    "        b = num**2\n",
    "        print('平方是：',b)\n",
    "        return b,num\n",
    "    def jia(self):\n",
    "        b,num = self.ping()\n",
    "        cha = b - num\n",
    "        print('两者差：',cha)"
   ]
  },
  {
   "cell_type": "code",
   "execution_count": 113,
   "metadata": {},
   "outputs": [
    {
     "name": "stdout",
     "output_type": "stream",
     "text": [
      "csh\n"
     ]
    }
   ],
   "source": [
    "c = Diaoyong()"
   ]
  },
  {
   "cell_type": "code",
   "execution_count": 114,
   "metadata": {},
   "outputs": [
    {
     "name": "stdout",
     "output_type": "stream",
     "text": [
      ">>2\n",
      "输入数字是： 2\n"
     ]
    },
    {
     "data": {
      "text/plain": [
       "2"
      ]
     },
     "execution_count": 114,
     "metadata": {},
     "output_type": "execute_result"
    }
   ],
   "source": [
    "c.numb()"
   ]
  },
  {
   "cell_type": "code",
   "execution_count": 115,
   "metadata": {},
   "outputs": [
    {
     "name": "stdout",
     "output_type": "stream",
     "text": [
      ">>2\n",
      "输入数字是： 2\n",
      "平方是： 4\n"
     ]
    },
    {
     "data": {
      "text/plain": [
       "(4, 2)"
      ]
     },
     "execution_count": 115,
     "metadata": {},
     "output_type": "execute_result"
    }
   ],
   "source": [
    "c.ping()"
   ]
  },
  {
   "cell_type": "code",
   "execution_count": 116,
   "metadata": {},
   "outputs": [
    {
     "name": "stdout",
     "output_type": "stream",
     "text": [
      ">>2\n",
      "输入数字是： 2\n",
      "平方是： 4\n",
      "两者差： 2\n"
     ]
    }
   ],
   "source": [
    "c.jia()"
   ]
  },
  {
   "cell_type": "markdown",
   "metadata": {},
   "source": [
    "# 进阶  登录账号密码验证"
   ]
  },
  {
   "cell_type": "code",
   "execution_count": 117,
   "metadata": {},
   "outputs": [],
   "source": [
    "import random\n",
    "class Denglu():\n",
    "    def __init__(self):\n",
    "        self.account = '123456'\n",
    "        self.password = '456789'\n",
    "    def zhanghao(self):\n",
    "        self.zh = eval(input('输入账号''>>'))\n",
    "    def mima(self):\n",
    "        self.mi = eval('输入密码''>>')\n",
    "    def Check(self):\n",
    "        if  self.zh == self.account and self.mi == self.password:\n",
    "            print('成功登陆')\n",
    "        else:\n",
    "            self.yanzheng()\n",
    "    def yanzheng(self):\n",
    "        yanz = random.randint(0,9,4)\n",
    "        print('验证码：',yanz)\n",
    "        while 1:\n",
    "            use_yan = eval(input('输入验证码''>>'))\n",
    "            if use_yan == yanz:\n",
    "                print('成功')\n",
    "                break   \n",
    "    def Start(self):\n",
    "        self.zhanghao()\n",
    "        self.mima()\n",
    "        self.Check()\n",
    "        "
   ]
  },
  {
   "cell_type": "code",
   "execution_count": 118,
   "metadata": {},
   "outputs": [],
   "source": [
    "a = Denglu()"
   ]
  },
  {
   "cell_type": "code",
   "execution_count": 119,
   "metadata": {},
   "outputs": [
    {
     "name": "stdout",
     "output_type": "stream",
     "text": [
      "输入账号>>123456\n"
     ]
    }
   ],
   "source": [
    "a.zhanghao()"
   ]
  },
  {
   "cell_type": "code",
   "execution_count": 121,
   "metadata": {},
   "outputs": [
    {
     "ename": "SyntaxError",
     "evalue": "unexpected EOF while parsing (<string>, line 1)",
     "output_type": "error",
     "traceback": [
      "Traceback \u001b[1;36m(most recent call last)\u001b[0m:\n",
      "  File \u001b[0;32m\"E:\\Anaconda\\lib\\site-packages\\IPython\\core\\interactiveshell.py\"\u001b[0m, line \u001b[0;32m3296\u001b[0m, in \u001b[0;35mrun_code\u001b[0m\n    exec(code_obj, self.user_global_ns, self.user_ns)\n",
      "  File \u001b[0;32m\"<ipython-input-121-67cb1b541c98>\"\u001b[0m, line \u001b[0;32m1\u001b[0m, in \u001b[0;35m<module>\u001b[0m\n    a.mima()\n",
      "\u001b[1;36m  File \u001b[1;32m\"<ipython-input-117-08778902b7f7>\"\u001b[1;36m, line \u001b[1;32m9\u001b[1;36m, in \u001b[1;35mmima\u001b[1;36m\u001b[0m\n\u001b[1;33m    self.mi = eval('输入密码''>>')\u001b[0m\n",
      "\u001b[1;36m  File \u001b[1;32m\"<string>\"\u001b[1;36m, line \u001b[1;32m1\u001b[0m\n\u001b[1;33m    输入密码>>\u001b[0m\n\u001b[1;37m         ^\u001b[0m\n\u001b[1;31mSyntaxError\u001b[0m\u001b[1;31m:\u001b[0m unexpected EOF while parsing\n"
     ]
    }
   ],
   "source": [
    "a.mima()"
   ]
  },
  {
   "cell_type": "code",
   "execution_count": null,
   "metadata": {},
   "outputs": [],
   "source": []
  },
  {
   "cell_type": "markdown",
   "metadata": {},
   "source": [
    "## 类的继承\n",
    "- 类的单继承\n",
    "- 类的多继承\n",
    "- 继承标识\n",
    ">  class SonClass(FatherClass):\n",
    "            \n",
    "            def __init__(self):\n",
    "            \n",
    "                FatherClass.__init__(self)"
   ]
  },
  {
   "cell_type": "code",
   "execution_count": 129,
   "metadata": {},
   "outputs": [],
   "source": [
    "class A:\n",
    "    def __init__(self):\n",
    "        self.a = 'a'   #共享变量\n",
    "    def a_(self):\n",
    "        print('class A')\n",
    "#多继承，前面覆盖后面；谁先谁来谁继承,自左向右\n",
    "class C:\n",
    "    def __init__(self):\n",
    "        self.__c = 'c'# 加了‘__’为私有变量，不可继承，不可在外部调用，可以在内部使用\n",
    "    def __c_(self):#  \n",
    "        print('class C')\n",
    "class B(A,C):#是栈的类型，最后继承显示A的\n",
    "    def __init__(self):\n",
    "        #告诉A，B即将继承A\n",
    "        A.__init__(self)\n",
    "#       print(self.a)\n",
    "#       self.a_()\n",
    "    def b_(self):\n",
    "        print(self.a)\n",
    "        self.a_()"
   ]
  },
  {
   "cell_type": "code",
   "execution_count": 130,
   "metadata": {},
   "outputs": [],
   "source": [
    "p = B()#运行后，A都到了类B中"
   ]
  },
  {
   "cell_type": "code",
   "execution_count": 131,
   "metadata": {},
   "outputs": [
    {
     "name": "stdout",
     "output_type": "stream",
     "text": [
      "a\n",
      "class A\n"
     ]
    }
   ],
   "source": [
    "p.b_()"
   ]
  },
  {
   "cell_type": "code",
   "execution_count": 132,
   "metadata": {},
   "outputs": [],
   "source": [
    "n = C()"
   ]
  },
  {
   "cell_type": "code",
   "execution_count": 133,
   "metadata": {},
   "outputs": [
    {
     "name": "stdout",
     "output_type": "stream",
     "text": [
      "class C\n"
     ]
    }
   ],
   "source": [
    "n.c_()"
   ]
  },
  {
   "cell_type": "code",
   "execution_count": null,
   "metadata": {},
   "outputs": [],
   "source": []
  },
  {
   "cell_type": "code",
   "execution_count": null,
   "metadata": {},
   "outputs": [],
   "source": [
    "class A:\n",
    "    def __init__(self):\n",
    "        self.a = 'a'\n",
    "    #静态调用\n",
    "    def a_(self):\n",
    "        print('class A')"
   ]
  },
  {
   "cell_type": "code",
   "execution_count": null,
   "metadata": {},
   "outputs": [],
   "source": []
  },
  {
   "cell_type": "code",
   "execution_count": null,
   "metadata": {},
   "outputs": [],
   "source": []
  },
  {
   "cell_type": "markdown",
   "metadata": {},
   "source": [
    "## 私有数据域(私有变量，或者私有函数)\n",
    "- 在Python中 变量名或者函数名使用双下划线代表私有  \\__Joker,   def \\__Joker():  \n",
    "\n",
    "- 私有数据域不可继承\n",
    "- 私有数据域强制继承   \\__dir__()"
   ]
  },
  {
   "cell_type": "markdown",
   "metadata": {},
   "source": [
    "![](../Photo/87.png)"
   ]
  },
  {
   "cell_type": "markdown",
   "metadata": {},
   "source": [
    "## EP:\n",
    "![](../Photo/88.png)\n",
    "![](../Photo/89.png)\n",
    "![](../Photo/90.png)\n"
   ]
  },
  {
   "cell_type": "markdown",
   "metadata": {},
   "source": [
    "## 类的其他\n",
    "- 类的封装\n",
    "    - 实际上就是将一类功能放在一起，方便未来进行管理\n",
    "- 类的继承（上面已经讲过）\n",
    "- 类的多态\n",
    "    - 包括装饰器：将放在以后处理高级类中教\n",
    "    - 装饰器的好处：当许多类中的函数需要使用同一个功能的时候，那么使用装饰器就会方便许多\n",
    "    - 装饰器是有固定的写法\n",
    "        - 其包括普通装饰器与带参装饰器"
   ]
  },
  {
   "cell_type": "markdown",
   "metadata": {},
   "source": [
    "# Homewor\n",
    "## UML类图可以不用画\n",
    "## UML 实际上就是一个思维图\n",
    "- 1\n",
    "![](../Photo/91.png)"
   ]
  },
  {
   "cell_type": "code",
   "execution_count": null,
   "metadata": {},
   "outputs": [],
   "source": [
    "class Jisuan():\n",
    "# 定义一个类\n",
    "    def __init__(self):\n",
    "#         初始化类，初始化后的self不再是参数而是一个印记，在定义函数时需要在括号中带上印记\n",
    "        self.width = 1\n",
    "        self.height = 2\n",
    "#         参数共享\n",
    "    def getArea(self):\n",
    "#         定义一个函数，带上印记\n",
    "        area = self.width*self.height\n",
    "#     计算面积\n",
    "        print('面积是：',area)\n",
    "        return area\n",
    "#     返回值\n",
    "    def getPerimeter(self):\n",
    "        perimeter = (self.width+self.height)*2\n",
    "#         计算周长\n",
    "        print('周长是：',perimeter)\n",
    "        return perimeter"
   ]
  },
  {
   "cell_type": "code",
   "execution_count": 141,
   "metadata": {},
   "outputs": [],
   "source": [
    "a = Jisuan()"
   ]
  },
  {
   "cell_type": "code",
   "execution_count": 142,
   "metadata": {},
   "outputs": [
    {
     "name": "stdout",
     "output_type": "stream",
     "text": [
      "面积是： 2\n"
     ]
    },
    {
     "data": {
      "text/plain": [
       "2"
      ]
     },
     "execution_count": 142,
     "metadata": {},
     "output_type": "execute_result"
    }
   ],
   "source": [
    "a.getArea()"
   ]
  },
  {
   "cell_type": "code",
   "execution_count": 143,
   "metadata": {},
   "outputs": [
    {
     "name": "stdout",
     "output_type": "stream",
     "text": [
      "周长是： 6\n"
     ]
    },
    {
     "data": {
      "text/plain": [
       "6"
      ]
     },
     "execution_count": 143,
     "metadata": {},
     "output_type": "execute_result"
    }
   ],
   "source": [
    "a.getPerimeter()"
   ]
  },
  {
   "cell_type": "markdown",
   "metadata": {},
   "source": [
    "- 2\n",
    "![](../Photo/92.png)"
   ]
  },
  {
   "cell_type": "code",
   "execution_count": 98,
   "metadata": {},
   "outputs": [],
   "source": [
    "class Account():\n",
    "    def __init__(self):\n",
    "        self.__id = input('>>')\n",
    "#         id默认为0\n",
    "        self.__balance = input('>>')\n",
    "#         初始额默认为100\n",
    "        self.__annual = input('>>')\n",
    "#         年利率默认为0\n",
    "    def getMonthlyInterestRate(self):\n",
    "        self.monthly = float(self.__annual)/100/12\n",
    "#         计算月利率\n",
    "    def getMonthlyInterest(self):\n",
    "        self.MonthlyInterest = float(self.__balance) * self.monthly\n",
    "#         计算利息额\n",
    "    def withdraw(self):\n",
    "        self.qu = eval(input('>>'))\n",
    "        self.quqianshu = float(self.__balance) - self.qu\n",
    "#         取指定金额\n",
    "        print('用户',self.__id,'金额',self.quqianshu,'月利率',self.monthly,'利息额',self.MonthlyInterest)\n",
    "    def deposit(self):\n",
    "        self.cun = eval(input('>>'))\n",
    "        self.cunqian = float(self.__balance) + self.cun\n",
    "#         存指定金额\n",
    "        print('用户',self.__id,'金额',self.cunqian,'月利率',self.monthly,'利息额',self.MonthlyInterest)"
   ]
  },
  {
   "cell_type": "code",
   "execution_count": 99,
   "metadata": {},
   "outputs": [
    {
     "name": "stdout",
     "output_type": "stream",
     "text": [
      ">>0\n",
      ">>20000\n",
      ">>450\n"
     ]
    }
   ],
   "source": [
    "qq = Account()"
   ]
  },
  {
   "cell_type": "code",
   "execution_count": 100,
   "metadata": {},
   "outputs": [],
   "source": [
    "qq.getMonthlyInterestRate()"
   ]
  },
  {
   "cell_type": "code",
   "execution_count": 101,
   "metadata": {},
   "outputs": [],
   "source": [
    "qq.getMonthlyInterest()"
   ]
  },
  {
   "cell_type": "code",
   "execution_count": 102,
   "metadata": {},
   "outputs": [
    {
     "name": "stdout",
     "output_type": "stream",
     "text": [
      ">>2500\n",
      "用户 0 金额 17500.0 月利率 0.375 利息额 7500.0\n"
     ]
    }
   ],
   "source": [
    "qq.withdraw()"
   ]
  },
  {
   "cell_type": "code",
   "execution_count": 103,
   "metadata": {},
   "outputs": [
    {
     "name": "stdout",
     "output_type": "stream",
     "text": [
      ">>3000\n",
      "用户 0 金额 23000.0 月利率 0.375 利息额 7500.0\n"
     ]
    }
   ],
   "source": [
    "qq.deposit()"
   ]
  },
  {
   "cell_type": "code",
   "execution_count": null,
   "metadata": {},
   "outputs": [],
   "source": []
  },
  {
   "cell_type": "markdown",
   "metadata": {},
   "source": [
    "- 3\n",
    "![](../Photo/93.png)"
   ]
  },
  {
   "cell_type": "code",
   "execution_count": 21,
   "metadata": {},
   "outputs": [],
   "source": [
    "class Fan():\n",
    "# 定义类\n",
    "    def __init__ (self):\n",
    "#         初始化类\n",
    "        self.__speed = 'slow'\n",
    "#     风速\n",
    "        self.__on = '关闭'\n",
    "#     开关\n",
    "        self.__radius = 5\n",
    "#     半径\n",
    "        self.__color = 'blue'\n",
    "#     颜色\n",
    "        self.slow = 1\n",
    "#     风速档\n",
    "        self.medium = 2\n",
    "        self.fast = 3\n",
    "#         设置默认值，私有数据域\n",
    "    def fan1(self):\n",
    "#         定义函数\n",
    "        self.__speed = self.fast\n",
    "        self.__radius = 10\n",
    "        self.__color = 'yellow'\n",
    "        self.__on = '打开'\n",
    "        print('速度为：',self.__speed,'半径为：',self.__radius,'颜色为：',self.__color,'状态为：',self.__on)\n",
    "    def fan2(self):\n",
    "        self.__speed = self.medium\n",
    "        self.__radius = 5\n",
    "        self.__color = 'blue'\n",
    "        self.__on = '关闭'\n",
    "        print('速度为：',self.__speed,'半径为：',self.__radius,'颜色为：',self.__color,'状态为：',self.__on)"
   ]
  },
  {
   "cell_type": "code",
   "execution_count": 22,
   "metadata": {},
   "outputs": [],
   "source": [
    "a = Fan()"
   ]
  },
  {
   "cell_type": "code",
   "execution_count": 23,
   "metadata": {},
   "outputs": [
    {
     "name": "stdout",
     "output_type": "stream",
     "text": [
      "速度为： 3 半径为： 10 颜色为： yellow 状态为： 打开\n"
     ]
    }
   ],
   "source": [
    "a.fan1()"
   ]
  },
  {
   "cell_type": "code",
   "execution_count": 24,
   "metadata": {},
   "outputs": [
    {
     "name": "stdout",
     "output_type": "stream",
     "text": [
      "速度为： 2 半径为： 5 颜色为： blue 状态为： 关闭\n"
     ]
    }
   ],
   "source": [
    "a.fan2()"
   ]
  },
  {
   "cell_type": "code",
   "execution_count": null,
   "metadata": {},
   "outputs": [],
   "source": []
  },
  {
   "cell_type": "markdown",
   "metadata": {},
   "source": [
    "- 4\n",
    "![](../Photo/94.png)\n",
    "![](../Photo/95.png)"
   ]
  },
  {
   "cell_type": "code",
   "execution_count": 47,
   "metadata": {},
   "outputs": [],
   "source": [
    "import math"
   ]
  },
  {
   "cell_type": "code",
   "execution_count": 62,
   "metadata": {},
   "outputs": [],
   "source": [
    "class RegularPolygon():\n",
    "#     定义类\n",
    "    def __init__(self):\n",
    "        self.__n = eval(input('>>'))\n",
    "        self.__side = input('>>')\n",
    "        self.__x = input('>>')\n",
    "        self.__y = input('>>')\n",
    "#         手动赋值，私有数据域\n",
    "    def getPerimeter(self):\n",
    "        perimeter = self.__n * float(self.__side)\n",
    "#         在赋的值前加上float变成浮点型数据\n",
    "        print('周长为：',perimeter)\n",
    "    def getArea(self):\n",
    "        area1 = self.__n * (float(self.__side))**2\n",
    "        area2 = 4*math.tan(math.pi/self.__n)\n",
    "#         应用数学符号前要import math，应用一下库\n",
    "        area = area1/area2\n",
    "        print('面积为：',area)"
   ]
  },
  {
   "cell_type": "code",
   "execution_count": 63,
   "metadata": {},
   "outputs": [
    {
     "name": "stdout",
     "output_type": "stream",
     "text": [
      ">>3\n",
      ">>1\n",
      ">>0\n",
      ">>0\n"
     ]
    }
   ],
   "source": [
    "a = RegularPolygon()"
   ]
  },
  {
   "cell_type": "code",
   "execution_count": 64,
   "metadata": {},
   "outputs": [
    {
     "name": "stdout",
     "output_type": "stream",
     "text": [
      "周长为： 3.0\n"
     ]
    }
   ],
   "source": [
    "a.getPerimeter()"
   ]
  },
  {
   "cell_type": "code",
   "execution_count": 65,
   "metadata": {},
   "outputs": [
    {
     "name": "stdout",
     "output_type": "stream",
     "text": [
      "面积为： 0.43301270189221946\n"
     ]
    }
   ],
   "source": [
    "a.getArea()"
   ]
  },
  {
   "cell_type": "code",
   "execution_count": null,
   "metadata": {},
   "outputs": [],
   "source": []
  },
  {
   "cell_type": "markdown",
   "metadata": {},
   "source": [
    "- 5\n",
    "![](../Photo/96.png)"
   ]
  },
  {
   "cell_type": "code",
   "execution_count": 66,
   "metadata": {},
   "outputs": [],
   "source": [
    "class LinearEquation():\n",
    "#     定义类\n",
    "    def __init__(self):\n",
    "#         初始化类\n",
    "        self.__a = eval(input('>>'))\n",
    "        self.__b = eval(input('>>'))\n",
    "        self.__c = eval(input('>>'))\n",
    "        self.__d = eval(input('>>'))\n",
    "        self.__e = eval(input('>>'))\n",
    "        self.__f = eval(input('>>'))\n",
    "    def isSolvable(self):\n",
    "        if self.__a * self.__d != self.__b * self.__c:\n",
    "            print('true')\n",
    "        else:\n",
    "            print('这个方程无解')\n",
    "    def getX(self):\n",
    "#         定义函数，加上印记 \n",
    "        x = (self.__e * self.__d - self.__b * self.__f)/(self.__a * self.__d - self.__b * self.__c)\n",
    "#         计算x\n",
    "        print(x)\n",
    "    def getY(self):\n",
    "        y = (self.__a * self.__f - self.__e * self.__c)/(self.__a * self.__d - self.__b * self.__c)\n",
    "#         计算y\n",
    "        print(y)"
   ]
  },
  {
   "cell_type": "code",
   "execution_count": 67,
   "metadata": {},
   "outputs": [
    {
     "name": "stdout",
     "output_type": "stream",
     "text": [
      ">>12\n",
      ">>32\n",
      ">>1\n",
      ">>2\n",
      ">>3\n",
      ">>1\n"
     ]
    }
   ],
   "source": [
    "ss = LinearEquation()"
   ]
  },
  {
   "cell_type": "code",
   "execution_count": 68,
   "metadata": {},
   "outputs": [
    {
     "name": "stdout",
     "output_type": "stream",
     "text": [
      "true\n"
     ]
    }
   ],
   "source": [
    "ss.isSolvable()"
   ]
  },
  {
   "cell_type": "code",
   "execution_count": 69,
   "metadata": {},
   "outputs": [
    {
     "name": "stdout",
     "output_type": "stream",
     "text": [
      "3.25\n"
     ]
    }
   ],
   "source": [
    "ss.getX()"
   ]
  },
  {
   "cell_type": "code",
   "execution_count": 70,
   "metadata": {},
   "outputs": [
    {
     "name": "stdout",
     "output_type": "stream",
     "text": [
      "-1.125\n"
     ]
    }
   ],
   "source": [
    "ss.getY()"
   ]
  },
  {
   "cell_type": "markdown",
   "metadata": {},
   "source": [
    "- 6\n",
    "![](../Photo/97.png)"
   ]
  },
  {
   "cell_type": "code",
   "execution_count": 132,
   "metadata": {},
   "outputs": [],
   "source": [
    "class JiaoDian():\n",
    "    def __init__(self):\n",
    "        self.x1 = eval(input('x1坐标>>'))\n",
    "        self.y1 = eval(input('y1坐标>>'))\n",
    "        self.x2 = eval(input('x2坐标>>'))\n",
    "        self.y2 = eval(input('y2坐标>>'))\n",
    "        self.x3 = eval(input('x3坐标>>'))\n",
    "        self.y3 = eval(input('y3坐标>>'))\n",
    "        self.x4 = eval(input('x4坐标>>'))\n",
    "        self.y4 = eval(input('y4坐标>>'))\n",
    "#         输入坐标\n",
    "    def xielv(self):\n",
    "        self.k1 = (self.y2 - self.y1)/(self.x2 - self.x1)\n",
    "#         计算k1\n",
    "        self.b1 = self.y1 - self.x1 * self.k1\n",
    "#         计算b1\n",
    "        if (self.x4 - self.x3) == 0:\n",
    "#         考虑斜率是否存在，不存在时\n",
    "            self.k2 = []\n",
    "#         斜率k2为空\n",
    "            self.b2 = 0\n",
    "        else:\n",
    "            self.k2 = (self.y4 - self.y3) / (self.x4 - self.x3)\n",
    "#         斜率存在时\n",
    "            self.b2 = self.y3 - self.x3 * self.k2\n",
    "        if self.k2 == []:\n",
    "#         如果为空\n",
    "            self.x = self.x3\n",
    "        else:\n",
    "            self.x = (self.b2 - self.b1)/(self.k1 - self.k2)\n",
    "        self.y = self.k1 * self.x + self.b1\n",
    "        return self.x,self.y\n"
   ]
  },
  {
   "cell_type": "code",
   "execution_count": 133,
   "metadata": {},
   "outputs": [
    {
     "name": "stdout",
     "output_type": "stream",
     "text": [
      "x1坐标>>2\n",
      "y1坐标>>2\n",
      "x2坐标>>0\n",
      "y2坐标>>0\n",
      "x3坐标>>0\n",
      "y3坐标>>2\n",
      "x4坐标>>2\n",
      "y4坐标>>0\n"
     ]
    }
   ],
   "source": [
    "jd = JiaoDian()"
   ]
  },
  {
   "cell_type": "code",
   "execution_count": 134,
   "metadata": {},
   "outputs": [
    {
     "data": {
      "text/plain": [
       "(1.0, 1.0)"
      ]
     },
     "execution_count": 134,
     "metadata": {},
     "output_type": "execute_result"
    }
   ],
   "source": [
    "jd.xielv()"
   ]
  },
  {
   "cell_type": "code",
   "execution_count": null,
   "metadata": {},
   "outputs": [],
   "source": []
  },
  {
   "cell_type": "code",
   "execution_count": null,
   "metadata": {},
   "outputs": [],
   "source": []
  },
  {
   "cell_type": "code",
   "execution_count": null,
   "metadata": {},
   "outputs": [],
   "source": []
  },
  {
   "cell_type": "code",
   "execution_count": null,
   "metadata": {},
   "outputs": [],
   "source": []
  },
  {
   "cell_type": "markdown",
   "metadata": {},
   "source": [
    "- 7\n",
    "![](../Photo/98.png)"
   ]
  }
 ],
 "metadata": {
  "kernelspec": {
   "display_name": "Python 3",
   "language": "python",
   "name": "python3"
  },
  "language_info": {
   "codemirror_mode": {
    "name": "ipython",
    "version": 3
   },
   "file_extension": ".py",
   "mimetype": "text/x-python",
   "name": "python",
   "nbconvert_exporter": "python",
   "pygments_lexer": "ipython3",
   "version": "3.7.3"
  }
 },
 "nbformat": 4,
 "nbformat_minor": 2
}
