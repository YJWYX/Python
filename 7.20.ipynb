{
 "cells": [
  {
   "cell_type": "markdown",
   "metadata": {},
   "source": [
    "# 函数\n",
    "\n",
    "- 函数可以用来定义可重复代码，组织和简化\n",
    "- 一般来说一个函数在实际开发中为一个小功能\n",
    "- 一个类为一个大功能\n",
    "- 同样函数的长度不要超过一屏"
   ]
  },
  {
   "cell_type": "markdown",
   "metadata": {},
   "source": [
    "Python中的所有函数实际上都是有返回值(return None),\n",
    "\n",
    "如果你没有设置return,那么Python将不显示None.\n",
    "\n",
    "如果你设置return,那么将返回出return这个值."
   ]
  },
  {
   "cell_type": "markdown",
   "metadata": {},
   "source": [
    "## 定义一个函数\n",
    "\n",
    "def function_name(list of parameters):\n",
    "    \n",
    "    do something\n",
    "![](../Photo/69.png)\n",
    "- 以前使用的random 或者range 或者print.. 其实都是函数或者类"
   ]
  },
  {
   "cell_type": "code",
   "execution_count": 1,
   "metadata": {},
   "outputs": [],
   "source": [
    "def suya():#函数需要调用如下一个框显示\n",
    "    print('suya meili')"
   ]
  },
  {
   "cell_type": "code",
   "execution_count": 3,
   "metadata": {
    "scrolled": true
   },
   "outputs": [
    {
     "name": "stdout",
     "output_type": "stream",
     "text": [
      "suya meili\n"
     ]
    }
   ],
   "source": [
    "suya()#调用时函数加括号"
   ]
  },
  {
   "cell_type": "code",
   "execution_count": 5,
   "metadata": {},
   "outputs": [],
   "source": [
    "def suya(name):#函数需要调用如下一个框显示\n",
    "    print(name,' meili')"
   ]
  },
  {
   "cell_type": "code",
   "execution_count": 6,
   "metadata": {},
   "outputs": [
    {
     "name": "stdout",
     "output_type": "stream",
     "text": [
      "wej  meili\n"
     ]
    }
   ],
   "source": [
    "suya('wej')#如果定义的函数括号中加入了变量，则在调用函数时括号需加入变量"
   ]
  },
  {
   "cell_type": "code",
   "execution_count": 9,
   "metadata": {},
   "outputs": [],
   "source": [
    "def panduan(number):#判断奇偶\n",
    "    if number % 2 == 0:\n",
    "        print('偶数')\n",
    "    else:\n",
    "        print('奇数')"
   ]
  },
  {
   "cell_type": "code",
   "execution_count": 10,
   "metadata": {},
   "outputs": [
    {
     "name": "stdout",
     "output_type": "stream",
     "text": [
      "奇数\n"
     ]
    }
   ],
   "source": [
    "panduan(number=1)"
   ]
  },
  {
   "cell_type": "code",
   "execution_count": 11,
   "metadata": {},
   "outputs": [],
   "source": [
    "def yj(name1,name2):\n",
    "    print(name1,'漂亮')\n",
    "    print(name2,'帅气')"
   ]
  },
  {
   "cell_type": "code",
   "execution_count": 12,
   "metadata": {},
   "outputs": [
    {
     "name": "stdout",
     "output_type": "stream",
     "text": [
      "suya 漂亮\n",
      "wej 帅气\n"
     ]
    }
   ],
   "source": [
    "yj(name1='suya',name2='wej')"
   ]
  },
  {
   "cell_type": "code",
   "execution_count": null,
   "metadata": {},
   "outputs": [],
   "source": [
    "def yj(name1,name2='superme'):#添加的默认值只能在最后\n",
    "    print(name1,'漂亮')\n",
    "    print(name2,'帅气')"
   ]
  },
  {
   "cell_type": "code",
   "execution_count": 14,
   "metadata": {},
   "outputs": [
    {
     "ename": "TypeError",
     "evalue": "yj() missing 1 required positional argument: 'name2'",
     "output_type": "error",
     "traceback": [
      "\u001b[1;31m---------------------------------------------------------------------------\u001b[0m",
      "\u001b[1;31mTypeError\u001b[0m                                 Traceback (most recent call last)",
      "\u001b[1;32m<ipython-input-14-edf3b37598e1>\u001b[0m in \u001b[0;36m<module>\u001b[1;34m\u001b[0m\n\u001b[1;32m----> 1\u001b[1;33m \u001b[0myj\u001b[0m\u001b[1;33m(\u001b[0m\u001b[0mname1\u001b[0m\u001b[1;33m=\u001b[0m\u001b[1;34m'suya'\u001b[0m\u001b[1;33m)\u001b[0m\u001b[1;33m\u001b[0m\u001b[1;33m\u001b[0m\u001b[0m\n\u001b[0m",
      "\u001b[1;31mTypeError\u001b[0m: yj() missing 1 required positional argument: 'name2'"
     ]
    }
   ],
   "source": [
    "yj(name1='suya')"
   ]
  },
  {
   "cell_type": "markdown",
   "metadata": {},
   "source": [
    "函数的参数如果有默认值的情况,当你调用该函数的时候:\n",
    "可以不给予参数值,那么就会走该参数的默认值\n",
    "否则的话,就走你给予的参数值."
   ]
  },
  {
   "cell_type": "markdown",
   "metadata": {},
   "source": [
    "## 调用一个函数\n",
    "- functionName()\n",
    "- \"()\" 就代表调用"
   ]
  },
  {
   "cell_type": "markdown",
   "metadata": {},
   "source": [
    "![](../Photo/70.png)"
   ]
  },
  {
   "cell_type": "markdown",
   "metadata": {},
   "source": [
    "## 带返回值和不带返回值的函数\n",
    "- return 返回的内容\n",
    "- return 返回多个值\n",
    "- 一般情况下，在多个函数协同完成一个功能的时候，那么将会有返回值"
   ]
  },
  {
   "cell_type": "code",
   "execution_count": null,
   "metadata": {},
   "outputs": [],
   "source": [
    "#任何函数都有返回值如果不加return，则不会显示除非去打印"
   ]
  },
  {
   "cell_type": "code",
   "execution_count": 27,
   "metadata": {},
   "outputs": [],
   "source": [
    "def max_(num1,num2,num3):\n",
    "    if num1>num2>num3 or num1>num3>num2:\n",
    "        result=num1\n",
    "    if num2>num1>num3 or num2>num3>num1:\n",
    "        result=num2\n",
    "    if num3>num2>num1 or num3>num1>num2:\n",
    "        result=num3\n",
    "    return result"
   ]
  },
  {
   "cell_type": "code",
   "execution_count": 28,
   "metadata": {},
   "outputs": [
    {
     "data": {
      "text/plain": [
       "55"
      ]
     },
     "execution_count": 28,
     "metadata": {},
     "output_type": "execute_result"
    }
   ],
   "source": [
    "max_(num1=55,num2=23,num3=13)"
   ]
  },
  {
   "cell_type": "code",
   "execution_count": 30,
   "metadata": {},
   "outputs": [],
   "source": [
    "def max_(a,b,c):\n",
    "    while \n",
    "    \n",
    "    if a>b>c or a>c>b:\n",
    "        result=a\n",
    "    if b>a>c or b>c>a:\n",
    "        result=b\n",
    "    if c>a>b or c>b>a:\n",
    "        result=c\n",
    "    return result"
   ]
  },
  {
   "cell_type": "code",
   "execution_count": 31,
   "metadata": {},
   "outputs": [],
   "source": [
    "import random"
   ]
  },
  {
   "cell_type": "code",
   "execution_count": null,
   "metadata": {},
   "outputs": [],
   "source": [
    "def n()\n",
    "n = random.randint(0,5)\n",
    "while 1:\n",
    "    N = eval(input('>>'))\n",
    "    if n == N:\n",
    "        print('ture')\n",
    "        break\n",
    "    elif n<N:\n",
    "        print('太小了')\n",
    "    elif n>N:\n",
    "        print('太大了')\n",
    "    "
   ]
  },
  {
   "cell_type": "code",
   "execution_count": 1,
   "metadata": {},
   "outputs": [],
   "source": [
    "def H():\n",
    "    print('hhhh')"
   ]
  },
  {
   "cell_type": "code",
   "execution_count": 2,
   "metadata": {},
   "outputs": [],
   "source": [
    "def B():\n",
    "    H()"
   ]
  },
  {
   "cell_type": "code",
   "execution_count": 3,
   "metadata": {},
   "outputs": [
    {
     "name": "stdout",
     "output_type": "stream",
     "text": [
      "hhhh\n"
     ]
    }
   ],
   "source": [
    "B()"
   ]
  },
  {
   "cell_type": "code",
   "execution_count": 6,
   "metadata": {},
   "outputs": [],
   "source": [
    "def A(f):#将函数名用于参数使用\n",
    "    f()"
   ]
  },
  {
   "cell_type": "code",
   "execution_count": 7,
   "metadata": {},
   "outputs": [
    {
     "name": "stdout",
     "output_type": "stream",
     "text": [
      "hhhh\n"
     ]
    }
   ],
   "source": [
    "A(B)"
   ]
  },
  {
   "cell_type": "code",
   "execution_count": null,
   "metadata": {},
   "outputs": [],
   "source": []
  },
  {
   "cell_type": "code",
   "execution_count": null,
   "metadata": {},
   "outputs": [],
   "source": []
  },
  {
   "cell_type": "markdown",
   "metadata": {},
   "source": [
    "![](../Photo/71.png)\n",
    "\n",
    "- 当然也可以自定义返回None"
   ]
  },
  {
   "cell_type": "markdown",
   "metadata": {},
   "source": [
    "## EP：\n",
    "![](../Photo/72.png)"
   ]
  },
  {
   "cell_type": "code",
   "execution_count": null,
   "metadata": {},
   "outputs": [],
   "source": [
    "#第一个函数没有缩进表示没有执行体\n",
    "#第二个elif与if没有对齐\n",
    "#传入3.4输出的functional为1\n",
    "#显示none\n",
    "#none不能与（51,6）比较即小于号不能于Type和"
   ]
  },
  {
   "cell_type": "code",
   "execution_count": null,
   "metadata": {},
   "outputs": [],
   "source": [
    "def main():\n",
    "    print(min(min(5,6),(51,6)))\n",
    "    "
   ]
  },
  {
   "cell_type": "markdown",
   "metadata": {},
   "source": [
    "## 类型和关键字参数\n",
    "- 普通参数\n",
    "- 多个参数\n",
    "- 默认值参数\n",
    "- 不定长参数"
   ]
  },
  {
   "cell_type": "markdown",
   "metadata": {},
   "source": [
    "## 普通参数"
   ]
  },
  {
   "cell_type": "markdown",
   "metadata": {},
   "source": [
    "## 多个参数"
   ]
  },
  {
   "cell_type": "markdown",
   "metadata": {},
   "source": [
    "## 默认值参数"
   ]
  },
  {
   "cell_type": "markdown",
   "metadata": {},
   "source": [
    "## 强制命名"
   ]
  },
  {
   "cell_type": "code",
   "execution_count": 16,
   "metadata": {},
   "outputs": [],
   "source": [
    "def feizhuliu(name):\n",
    "    print('Hello',name)"
   ]
  },
  {
   "cell_type": "code",
   "execution_count": 17,
   "metadata": {
    "scrolled": true
   },
   "outputs": [
    {
     "name": "stdout",
     "output_type": "stream",
     "text": [
      "Hello suya\n"
     ]
    }
   ],
   "source": [
    "feizhuliu('suya')"
   ]
  },
  {
   "cell_type": "code",
   "execution_count": 14,
   "metadata": {},
   "outputs": [],
   "source": [
    "def feizhuliu(*,name):#加上*号锁定了位置参数，在调用函数时必须加上传参\n",
    "    print('meili',name)"
   ]
  },
  {
   "cell_type": "code",
   "execution_count": 15,
   "metadata": {},
   "outputs": [
    {
     "name": "stdout",
     "output_type": "stream",
     "text": [
      "meili suya\n"
     ]
    }
   ],
   "source": [
    "feizhuliu(name='suya')"
   ]
  },
  {
   "cell_type": "markdown",
   "metadata": {},
   "source": [
    "## 不定长参数\n",
    "- \\*args\n",
    "> - 不定长，来多少装多少，不装也是可以的\n",
    "  - 返回的数据类型是元组\n",
    "  - args 名字是可以修改的，只是我们约定俗成的是args\n",
    "- \\**kwargs \n",
    "> - 返回的字典\n",
    "  - 输入的一定要是表达式（键值对）\n",
    "- name,\\*args,name2,\\**kwargs  使用参数名"
   ]
  },
  {
   "cell_type": "code",
   "execution_count": 20,
   "metadata": {},
   "outputs": [],
   "source": [
    "def h(*args):#arge对于传入的有多少就可以显示多少,不传就显示空括号\n",
    "    print(args)"
   ]
  },
  {
   "cell_type": "code",
   "execution_count": 21,
   "metadata": {},
   "outputs": [
    {
     "name": "stdout",
     "output_type": "stream",
     "text": [
      "(1, 2, 3)\n"
     ]
    }
   ],
   "source": [
    "h(1,2,3)"
   ]
  },
  {
   "cell_type": "code",
   "execution_count": 22,
   "metadata": {},
   "outputs": [],
   "source": [
    "def yj(*args):\n",
    "    print(args)\n",
    "    res=1\n",
    "    for i in args:\n",
    "        if i>res:\n",
    "            res = i\n",
    "    return res"
   ]
  },
  {
   "cell_type": "code",
   "execution_count": 23,
   "metadata": {},
   "outputs": [
    {
     "name": "stdout",
     "output_type": "stream",
     "text": [
      "(1, 5, 6, 9)\n"
     ]
    },
    {
     "data": {
      "text/plain": [
       "9"
      ]
     },
     "execution_count": 23,
     "metadata": {},
     "output_type": "execute_result"
    }
   ],
   "source": [
    "yj(1,5,6,9)"
   ]
  },
  {
   "cell_type": "code",
   "execution_count": 24,
   "metadata": {},
   "outputs": [],
   "source": [
    "def sum_(*args):#求和\n",
    "    print(args)\n",
    "    res = 0\n",
    "    for i in args:\n",
    "        res += i\n",
    "    return res"
   ]
  },
  {
   "cell_type": "code",
   "execution_count": 25,
   "metadata": {},
   "outputs": [
    {
     "name": "stdout",
     "output_type": "stream",
     "text": [
      "(2, 5, 8, 5)\n"
     ]
    },
    {
     "data": {
      "text/plain": [
       "20"
      ]
     },
     "execution_count": 25,
     "metadata": {},
     "output_type": "execute_result"
    }
   ],
   "source": [
    "sum_(2,5,8,5)"
   ]
  },
  {
   "cell_type": "code",
   "execution_count": 26,
   "metadata": {},
   "outputs": [],
   "source": [
    "def sum_(*args):#求平均数\n",
    "    print(args)\n",
    "    res = 0\n",
    "    count = 1\n",
    "    for i in args:\n",
    "        res += i\n",
    "        count += 1\n",
    "    mean = res / (count-1)\n",
    "    return res,mean"
   ]
  },
  {
   "cell_type": "code",
   "execution_count": 27,
   "metadata": {},
   "outputs": [
    {
     "name": "stdout",
     "output_type": "stream",
     "text": [
      "(2, 87, 9, 5)\n"
     ]
    },
    {
     "data": {
      "text/plain": [
       "(103, 25.75)"
      ]
     },
     "execution_count": 27,
     "metadata": {},
     "output_type": "execute_result"
    }
   ],
   "source": [
    "sum_(2,87,9,5)"
   ]
  },
  {
   "cell_type": "code",
   "execution_count": 11,
   "metadata": {},
   "outputs": [],
   "source": [
    "def var_(*args):#求方差\n",
    "    print(args)\n",
    "    res = 0\n",
    "    count = 1\n",
    "    for i in args:\n",
    "        res += i\n",
    "        count += 1\n",
    "    fangcha = (count-1)*(i - (res / (count-1)))**2\n",
    "    return res,fangcha"
   ]
  },
  {
   "cell_type": "code",
   "execution_count": 12,
   "metadata": {},
   "outputs": [
    {
     "name": "stdout",
     "output_type": "stream",
     "text": [
      "(2, 3, 2)\n"
     ]
    },
    {
     "data": {
      "text/plain": [
       "(7, 0.33333333333333365)"
      ]
     },
     "execution_count": 12,
     "metadata": {},
     "output_type": "execute_result"
    }
   ],
   "source": [
    "var_(2,3,2)"
   ]
  },
  {
   "cell_type": "code",
   "execution_count": 28,
   "metadata": {},
   "outputs": [],
   "source": [
    "def yj(**kwargs):\n",
    "    print(kwargs)"
   ]
  },
  {
   "cell_type": "code",
   "execution_count": 29,
   "metadata": {},
   "outputs": [
    {
     "name": "stdout",
     "output_type": "stream",
     "text": [
      "{'a': 1, 'b': 2}\n"
     ]
    }
   ],
   "source": [
    "yj(a=1,b=2)"
   ]
  },
  {
   "cell_type": "code",
   "execution_count": null,
   "metadata": {},
   "outputs": [],
   "source": [
    "def lihai(*args,**kwargs):"
   ]
  },
  {
   "cell_type": "markdown",
   "metadata": {},
   "source": [
    "## 变量的作用域\n",
    "- 局部变量 local\n",
    "- 全局变量 global\n",
    "- globals 函数返回一个全局变量的字典，包括所有导入的变量，会返回所有的变量\n",
    "- locals() 函数会以字典类型返回当前位置的全部局部变量。"
   ]
  },
  {
   "cell_type": "code",
   "execution_count": 32,
   "metadata": {},
   "outputs": [],
   "source": [
    "y = 1000\n",
    "\n",
    "def yj():\n",
    "    global y#用一下y，局部变量在函数体内想要改变外部变量时或想查看外部变量使用global多个global逗号隔开\n",
    "    y += 100\n",
    "    print(y)"
   ]
  },
  {
   "cell_type": "code",
   "execution_count": 33,
   "metadata": {},
   "outputs": [
    {
     "name": "stdout",
     "output_type": "stream",
     "text": [
      "1100\n"
     ]
    }
   ],
   "source": [
    "yj()#不改变原外部变量的话可以在函数里导入一下再修改就不会改变原外部变量"
   ]
  },
  {
   "cell_type": "code",
   "execution_count": null,
   "metadata": {},
   "outputs": [],
   "source": []
  },
  {
   "cell_type": "markdown",
   "metadata": {},
   "source": [
    "## 注意：\n",
    "- global ：在进行赋值操作的时候需要声明\n",
    "- 官方解释：This is because when you make an assignment to a variable in a scope, that variable becomes local to that scope and shadows any similarly named variable in the outer scope.\n",
    "- ![](../Photo/73.png)\n",
    "## 习题，编写一个函数，接收传入的字符串，统计大写字母个数、小写字母的个数、数字的个数，返回这些数，然后调用函数"
   ]
  },
  {
   "cell_type": "code",
   "execution_count": 61,
   "metadata": {},
   "outputs": [],
   "source": [
    "def zi(*args):\n",
    "    print(args)\n",
    "    res = 1\n",
    "    rea = 1\n",
    "    reb = 1\n",
    "    for i in args:\n",
    "            y=ord(i)\n",
    "            o=ord(i)\n",
    "            p=ord(i)\n",
    "            if 48<y<57:\n",
    "                res += 1\n",
    "            if 65<o<90:\n",
    "                rea += 1\n",
    "            if 97<p<122:\n",
    "                reb += 1\n",
    "    return res,rea,reb\n",
    "        "
   ]
  },
  {
   "cell_type": "code",
   "execution_count": 62,
   "metadata": {},
   "outputs": [
    {
     "name": "stdout",
     "output_type": "stream",
     "text": [
      "('A', 'c', '2')\n"
     ]
    },
    {
     "data": {
      "text/plain": [
       "(2, 1, 2)"
      ]
     },
     "execution_count": 62,
     "metadata": {},
     "output_type": "execute_result"
    }
   ],
   "source": [
    "zi('A','c','2')"
   ]
  },
  {
   "cell_type": "code",
   "execution_count": 214,
   "metadata": {},
   "outputs": [],
   "source": [
    "def tongji(*args):\n",
    "    shuzi = 0\n",
    "    xiaoxie = 0\n",
    "    daxie = 0\n",
    "    for i in args:\n",
    "        A = ord(i)\n",
    "        if 40<=A<=57:\n",
    "            shuzi += 1\n",
    "        elif 97<=A<=122:\n",
    "            xiaoxie += 1\n",
    "        elif 65<=A<=90:\n",
    "            daxie += 1\n",
    "    return shuzi,xiaoxie,daxie"
   ]
  },
  {
   "cell_type": "code",
   "execution_count": 215,
   "metadata": {
    "scrolled": true
   },
   "outputs": [
    {
     "data": {
      "text/plain": [
       "(3, 1, 5)"
      ]
     },
     "execution_count": 215,
     "metadata": {},
     "output_type": "execute_result"
    }
   ],
   "source": [
    "tongji('Y','J','a','W','Y','X','7','2','8')"
   ]
  },
  {
   "cell_type": "markdown",
   "metadata": {},
   "source": [
    "# 编写一个函数，输入n为偶数时，调用函数求1/2+1/4+...+1/n ，当输入n为奇数时，调用函数求1/1+1/3+...+1/n"
   ]
  },
  {
   "cell_type": "code",
   "execution_count": 92,
   "metadata": {},
   "outputs": [],
   "source": [
    "def shu(n):\n",
    "    res = 0\n",
    "    if n % 2 == 0:\n",
    "        for i in range(2,n+1,2):\n",
    "            res += 1/i\n",
    "    else:\n",
    "        for j in range(1,n+1,2):\n",
    "            res += 1/j\n",
    "    return res  \n",
    "        "
   ]
  },
  {
   "cell_type": "code",
   "execution_count": 94,
   "metadata": {},
   "outputs": [
    {
     "data": {
      "text/plain": [
       "0.75"
      ]
     },
     "execution_count": 94,
     "metadata": {},
     "output_type": "execute_result"
    }
   ],
   "source": [
    "shu(n=4)"
   ]
  },
  {
   "cell_type": "code",
   "execution_count": 95,
   "metadata": {},
   "outputs": [
    {
     "data": {
      "text/plain": [
       "1.3333333333333333"
      ]
     },
     "execution_count": 95,
     "metadata": {},
     "output_type": "execute_result"
    }
   ],
   "source": [
    "shu(3)"
   ]
  },
  {
   "cell_type": "markdown",
   "metadata": {},
   "source": [
    "# 题目：求S=a+aa+aaa+aaaa+...+aaa...a的值，其中a是一个数字。几个数相加由键盘控制。"
   ]
  },
  {
   "cell_type": "code",
   "execution_count": 96,
   "metadata": {},
   "outputs": [],
   "source": [
    "def sum_():\n",
    "    num = input('>>')#数字\n",
    "    N = input('>>')#几次\n",
    "    res = 0\n",
    "    for i in range(1,int(N)+1):\n",
    "        print(num * i)\n",
    "        res += int(num * i)\n",
    "    return res"
   ]
  },
  {
   "cell_type": "code",
   "execution_count": 99,
   "metadata": {},
   "outputs": [
    {
     "name": "stdout",
     "output_type": "stream",
     "text": [
      ">>2\n",
      ">>5\n",
      "2\n",
      "22\n",
      "222\n",
      "2222\n",
      "22222\n"
     ]
    },
    {
     "data": {
      "text/plain": [
       "24690"
      ]
     },
     "execution_count": 99,
     "metadata": {},
     "output_type": "execute_result"
    }
   ],
   "source": [
    "sum_()"
   ]
  },
  {
   "cell_type": "code",
   "execution_count": 107,
   "metadata": {},
   "outputs": [],
   "source": [
    "def num():\n",
    "    a = eval(input('>>'))\n",
    "    res = 0\n",
    "    for j in range(5):\n",
    "        for i in range(j+1):\n",
    "            res += a*10**i\n",
    "    print(res)"
   ]
  },
  {
   "cell_type": "code",
   "execution_count": 109,
   "metadata": {},
   "outputs": [
    {
     "name": "stdout",
     "output_type": "stream",
     "text": [
      ">>3\n",
      "37035\n"
     ]
    }
   ],
   "source": [
    "num()"
   ]
  },
  {
   "cell_type": "code",
   "execution_count": 112,
   "metadata": {},
   "outputs": [],
   "source": [
    "def num():\n",
    "    a = eval(input('>>'))\n",
    "    n = eval(input('>>'))\n",
    "    res = 0\n",
    "    for j in range(n):\n",
    "        for i in range(j+1):\n",
    "            res += a*10**i\n",
    "    print(res)"
   ]
  },
  {
   "cell_type": "code",
   "execution_count": 114,
   "metadata": {},
   "outputs": [
    {
     "name": "stdout",
     "output_type": "stream",
     "text": [
      ">>3\n",
      ">>4\n",
      "3702\n"
     ]
    }
   ],
   "source": [
    "num()"
   ]
  },
  {
   "cell_type": "markdown",
   "metadata": {},
   "source": [
    "# 题目：阶乘求和"
   ]
  },
  {
   "cell_type": "code",
   "execution_count": 117,
   "metadata": {},
   "outputs": [],
   "source": [
    "def jie():\n",
    "    res = eval(input('>>'))\n",
    "    for i in range(1,res):\n",
    "        rres = 1\n",
    "        for j in range(1,i+1):\n",
    "            rres *= j\n",
    "        print(rres)\n",
    "        "
   ]
  },
  {
   "cell_type": "code",
   "execution_count": 118,
   "metadata": {
    "scrolled": true
   },
   "outputs": [
    {
     "name": "stdout",
     "output_type": "stream",
     "text": [
      ">>20\n",
      "1\n",
      "2\n",
      "6\n",
      "24\n",
      "120\n",
      "720\n",
      "5040\n",
      "40320\n",
      "362880\n",
      "3628800\n",
      "39916800\n",
      "479001600\n",
      "6227020800\n",
      "87178291200\n",
      "1307674368000\n",
      "20922789888000\n",
      "355687428096000\n",
      "6402373705728000\n",
      "121645100408832000\n"
     ]
    }
   ],
   "source": [
    "jie()"
   ]
  },
  {
   "cell_type": "markdown",
   "metadata": {},
   "source": [
    "# 题目：高空抛物：一球从100米高度自由落下，每次落地后反弹回原高度的一半；再落下，求它在第10次落地时，共经过多少米？第10次反弹多高？"
   ]
  },
  {
   "cell_type": "code",
   "execution_count": 143,
   "metadata": {},
   "outputs": [],
   "source": [
    "def paowu(high):\n",
    "    hui = 100\n",
    "    for i in range(10):\n",
    "        high /= 2\n",
    "        hui += high\n",
    "    print('第十次落地经过',hui)\n",
    "    print('第十次反弹',high/2)\n"
   ]
  },
  {
   "cell_type": "code",
   "execution_count": 144,
   "metadata": {},
   "outputs": [
    {
     "name": "stdout",
     "output_type": "stream",
     "text": [
      "第十次落地经过 299.8046875\n",
      "第十次反弹 0.09765625\n"
     ]
    }
   ],
   "source": [
    "paowu(200)"
   ]
  },
  {
   "cell_type": "markdown",
   "metadata": {},
   "source": [
    "# 附加作业：\n",
    "      1.作业使用函数实现汉诺塔流程（递归）\n",
    "      2.求方差"
   ]
  },
  {
   "cell_type": "code",
   "execution_count": 71,
   "metadata": {},
   "outputs": [],
   "source": [
    "def var_1(*args):#求方差\n",
    "    print(args)\n",
    "    res = 0\n",
    "    count = 0\n",
    "    mean1 = 0\n",
    "    for i in args:\n",
    "        res += i\n",
    "        count += 1\n",
    "    junzhi = res / (count)\n",
    "    for i in args:\n",
    "        mean1 = (i-junzhi)**2+mean1\n",
    "    fangcha = mean1/(count-1)\n",
    "    return junzhi,fangcha"
   ]
  },
  {
   "cell_type": "code",
   "execution_count": 73,
   "metadata": {},
   "outputs": [
    {
     "name": "stdout",
     "output_type": "stream",
     "text": [
      "(1050, 1100, 1130, 1040, 1250, 1300, 1200, 1080)\n"
     ]
    },
    {
     "data": {
      "text/plain": [
       "(1143.75, 9226.785714285714)"
      ]
     },
     "execution_count": 73,
     "metadata": {},
     "output_type": "execute_result"
    }
   ],
   "source": [
    "var_1(1050,1100,1130,1040,1250,1300,1200,1080)"
   ]
  },
  {
   "cell_type": "code",
   "execution_count": 74,
   "metadata": {},
   "outputs": [
    {
     "name": "stdout",
     "output_type": "stream",
     "text": [
      "(1, 2, 3)\n"
     ]
    },
    {
     "data": {
      "text/plain": [
       "(2.0, 1.0)"
      ]
     },
     "execution_count": 74,
     "metadata": {},
     "output_type": "execute_result"
    }
   ],
   "source": [
    "var_1(1,2,3,)"
   ]
  },
  {
   "cell_type": "markdown",
   "metadata": {},
   "source": [
    "# Homework\n",
    "- 1\n",
    "![](../Photo/74.png)"
   ]
  },
  {
   "cell_type": "code",
   "execution_count": 154,
   "metadata": {},
   "outputs": [],
   "source": [
    "def getPentagonalNumber(n):\n",
    "    res = 0\n",
    "    count = 0\n",
    "    for i in range(101):\n",
    "        i = n*(3*n-1)/2\n",
    "        i = int(i)\n",
    "        n += 1\n",
    "        res += 1\n",
    "        if res>=100:\n",
    "            break\n",
    "        print(i,end='    ')\n",
    "        count += 1\n",
    "        if count % 10 == 0:\n",
    "            print()"
   ]
  },
  {
   "cell_type": "code",
   "execution_count": 155,
   "metadata": {},
   "outputs": [
    {
     "name": "stdout",
     "output_type": "stream",
     "text": [
      "1    5    12    22    35    51    70    92    117    145    \n",
      "176    210    247    287    330    376    425    477    532    590    \n",
      "651    715    782    852    925    1001    1080    1162    1247    1335    \n",
      "1426    1520    1617    1717    1820    1926    2035    2147    2262    2380    \n",
      "2501    2625    2752    2882    3015    3151    3290    3432    3577    3725    \n",
      "3876    4030    4187    4347    4510    4676    4845    5017    5192    5370    \n",
      "5551    5735    5922    6112    6305    6501    6700    6902    7107    7315    \n",
      "7526    7740    7957    8177    8400    8626    8855    9087    9322    9560    \n",
      "9801    10045    10292    10542    10795    11051    11310    11572    11837    12105    \n",
      "12376    12650    12927    13207    13490    13776    14065    14357    14652    "
     ]
    }
   ],
   "source": [
    "getPentagonalNumber(1)"
   ]
  },
  {
   "cell_type": "markdown",
   "metadata": {},
   "source": [
    "- 2 \n",
    "![](../Photo/75.png)"
   ]
  },
  {
   "cell_type": "code",
   "execution_count": 156,
   "metadata": {},
   "outputs": [],
   "source": [
    "def sumDigits(n):\n",
    "    print((n%10)+((n//10)%10)+(n//100))"
   ]
  },
  {
   "cell_type": "code",
   "execution_count": 157,
   "metadata": {},
   "outputs": [
    {
     "name": "stdout",
     "output_type": "stream",
     "text": [
      "9\n"
     ]
    }
   ],
   "source": [
    "sumDigits(234)"
   ]
  },
  {
   "cell_type": "markdown",
   "metadata": {},
   "source": [
    "- 3\n",
    "![](../Photo/76.png)"
   ]
  },
  {
   "cell_type": "code",
   "execution_count": 180,
   "metadata": {},
   "outputs": [],
   "source": [
    "def displaySortedNumbers(num1,num2,num3):\n",
    "    \n",
    "    if num1<num2<num3:\n",
    "        print(num1,num2,num3)\n",
    "    if num1<num3<num2:\n",
    "        print(num1,num3,num2)\n",
    "    if num2<num1<num3:\n",
    "        print(num2,num1,num3)\n",
    "    if num2<num3<num1:\n",
    "        print(num2,num3,num1)\n",
    "    if num3<num1<num2:\n",
    "        print(num3,num1,num2)\n",
    "    if num3<num2<num1:\n",
    "        print(num3,num2,num1)"
   ]
  },
  {
   "cell_type": "code",
   "execution_count": 181,
   "metadata": {},
   "outputs": [
    {
     "name": "stdout",
     "output_type": "stream",
     "text": [
      "2.4 3 5\n"
     ]
    }
   ],
   "source": [
    "displaySortedNumbers(num1=2.4,num2=3,num3=5)"
   ]
  },
  {
   "cell_type": "markdown",
   "metadata": {},
   "source": [
    "- 4\n",
    "![](../Photo/77.png)"
   ]
  },
  {
   "cell_type": "code",
   "execution_count": 44,
   "metadata": {},
   "outputs": [],
   "source": [
    "def futureInvestmentValue(invest,monthly,years):\n",
    "    for years in range(31):\n",
    "        invest = invest * (1+(monthly/100))\n",
    "        years += 1\n",
    "        print(invest)"
   ]
  },
  {
   "cell_type": "code",
   "execution_count": 45,
   "metadata": {},
   "outputs": [
    {
     "name": "stdout",
     "output_type": "stream",
     "text": [
      "1090.0\n",
      "1188.1000000000001\n",
      "1295.0290000000002\n",
      "1411.5816100000004\n",
      "1538.6239549000006\n",
      "1677.1001108410007\n",
      "1828.039120816691\n",
      "1992.5626416901932\n",
      "2171.893279442311\n",
      "2367.363674592119\n",
      "2580.42640530541\n",
      "2812.664781782897\n",
      "3065.804612143358\n",
      "3341.7270272362607\n",
      "3642.4824596875246\n",
      "3970.305881059402\n",
      "4327.633410354749\n",
      "4717.1204172866765\n",
      "5141.661254842477\n",
      "5604.4107677783\n",
      "6108.807736878348\n",
      "6658.6004331974\n",
      "7257.874472185166\n",
      "7911.083174681832\n",
      "8623.080660403197\n",
      "9399.157919839485\n",
      "10245.082132625039\n",
      "11167.139524561293\n",
      "12172.18208177181\n",
      "13267.678469131275\n",
      "14461.769531353091\n"
     ]
    }
   ],
   "source": [
    "futureInvestmentValue(invest=1000.0,monthly=9,years=30)"
   ]
  },
  {
   "cell_type": "markdown",
   "metadata": {},
   "source": [
    "- 5\n",
    "![](../Photo/78.png)"
   ]
  },
  {
   "cell_type": "code",
   "execution_count": 221,
   "metadata": {},
   "outputs": [],
   "source": [
    "def printChars(ch1,ch2,number):\n",
    "    for i in range(ch1,ch2,-1):\n",
    "        A = chr(i)\n",
    "        number += 1\n",
    "        print(A,end=' ')\n",
    "        if number % 10 == 0:\n",
    "            print()"
   ]
  },
  {
   "cell_type": "code",
   "execution_count": 222,
   "metadata": {},
   "outputs": [
    {
     "name": "stdout",
     "output_type": "stream",
     "text": [
      "l k j i h g f e d c \n",
      "b a ` _ ^ ] \\ [ Z "
     ]
    }
   ],
   "source": [
    "printChars(ch1=108,ch2=89,number=10)"
   ]
  },
  {
   "cell_type": "markdown",
   "metadata": {},
   "source": [
    "- 6\n",
    "![](../Photo/79.png)"
   ]
  },
  {
   "cell_type": "code",
   "execution_count": 20,
   "metadata": {},
   "outputs": [],
   "source": [
    "def numberOfDaysInAYear(year):\n",
    "    for i in range(0,11):\n",
    "        if ((year%4==0) and (year%100!=0)) or (year%400==0):\n",
    "            print(year,'有366天')\n",
    "            year += 1\n",
    "            i += 1\n",
    "        else:\n",
    "            print(year,'有365天')\n",
    "            year += 1\n",
    "            i += 1"
   ]
  },
  {
   "cell_type": "code",
   "execution_count": 21,
   "metadata": {},
   "outputs": [
    {
     "name": "stdout",
     "output_type": "stream",
     "text": [
      "2010 有365天\n",
      "2011 有365天\n",
      "2012 有366天\n",
      "2013 有365天\n",
      "2014 有365天\n",
      "2015 有365天\n",
      "2016 有366天\n",
      "2017 有365天\n",
      "2018 有365天\n",
      "2019 有365天\n",
      "2020 有366天\n"
     ]
    }
   ],
   "source": [
    "numberOfDaysInAYear(year=2010)"
   ]
  },
  {
   "cell_type": "markdown",
   "metadata": {},
   "source": [
    "- 7\n",
    "![](../Photo/80.png)"
   ]
  },
  {
   "cell_type": "code",
   "execution_count": 41,
   "metadata": {},
   "outputs": [],
   "source": [
    "import math"
   ]
  },
  {
   "cell_type": "code",
   "execution_count": 42,
   "metadata": {},
   "outputs": [],
   "source": [
    "def distance(x1,y1,x2,y2):\n",
    "    a = math.sqrt((x2-x1)**2+(y2-y1)**2)\n",
    "    print(a)"
   ]
  },
  {
   "cell_type": "code",
   "execution_count": 43,
   "metadata": {},
   "outputs": [
    {
     "name": "stdout",
     "output_type": "stream",
     "text": [
      "4.123105625617661\n"
     ]
    }
   ],
   "source": [
    "distance(x1=1,y1=5,x2=5,y2=6)"
   ]
  },
  {
   "cell_type": "markdown",
   "metadata": {},
   "source": [
    "- 8\n",
    "![](../Photo/81.png)"
   ]
  },
  {
   "cell_type": "code",
   "execution_count": 13,
   "metadata": {},
   "outputs": [],
   "source": [
    "def meishen():\n",
    "    for p in range(2,32):\n",
    "        for x in range(2,p):\n",
    "            if p % x == 0:\n",
    "                break\n",
    "        else:\n",
    "            m = 2**p-1\n",
    "            print(p,m)\n",
    "      "
   ]
  },
  {
   "cell_type": "code",
   "execution_count": 14,
   "metadata": {},
   "outputs": [
    {
     "name": "stdout",
     "output_type": "stream",
     "text": [
      "2 3\n",
      "3 7\n",
      "5 31\n",
      "7 127\n",
      "11 2047\n",
      "13 8191\n",
      "17 131071\n",
      "19 524287\n",
      "23 8388607\n",
      "29 536870911\n",
      "31 2147483647\n"
     ]
    }
   ],
   "source": [
    "meishen()"
   ]
  },
  {
   "cell_type": "markdown",
   "metadata": {},
   "source": [
    "- 9\n",
    "![](../Photo/82.png)\n",
    "![](../Photo/83.png)"
   ]
  },
  {
   "cell_type": "code",
   "execution_count": 17,
   "metadata": {},
   "outputs": [],
   "source": [
    "import time"
   ]
  },
  {
   "cell_type": "code",
   "execution_count": 20,
   "metadata": {},
   "outputs": [],
   "source": [
    "def now():\n",
    "    localtime = time.localtime(time.time())\n",
    "    print (localtime)"
   ]
  },
  {
   "cell_type": "code",
   "execution_count": 21,
   "metadata": {},
   "outputs": [
    {
     "name": "stdout",
     "output_type": "stream",
     "text": [
      "time.struct_time(tm_year=2019, tm_mon=5, tm_mday=10, tm_hour=23, tm_min=44, tm_sec=7, tm_wday=4, tm_yday=130, tm_isdst=0)\n"
     ]
    }
   ],
   "source": [
    "now()"
   ]
  },
  {
   "cell_type": "code",
   "execution_count": 22,
   "metadata": {},
   "outputs": [],
   "source": [
    "#第一种就是第4步讲述的asctime格式，我们调用time模块内的asctime方法即可，参数为struct_time对象数据，返回字符串，即asctime格式当前日期时间。\n",
    "\n",
    "#time.asctime(time.localtime(time.time()))"
   ]
  },
  {
   "cell_type": "code",
   "execution_count": 29,
   "metadata": {},
   "outputs": [],
   "source": [
    "def now():\n",
    "    localtime = time.localtime(time.time())#经过的秒数\n",
    "    print (localtime)\n",
    "    print(time.asctime(time.localtime(time.time())))#调用数据返回字符串"
   ]
  },
  {
   "cell_type": "code",
   "execution_count": 28,
   "metadata": {},
   "outputs": [
    {
     "name": "stdout",
     "output_type": "stream",
     "text": [
      "time.struct_time(tm_year=2019, tm_mon=5, tm_mday=10, tm_hour=23, tm_min=49, tm_sec=5, tm_wday=4, tm_yday=130, tm_isdst=0)\n",
      "Fri May 10 23:49:05 2019\n"
     ]
    }
   ],
   "source": [
    "now()"
   ]
  },
  {
   "cell_type": "markdown",
   "metadata": {},
   "source": [
    "- 10\n",
    "![](../Photo/84.png)"
   ]
  },
  {
   "cell_type": "code",
   "execution_count": 31,
   "metadata": {},
   "outputs": [],
   "source": [
    "import random"
   ]
  },
  {
   "cell_type": "code",
   "execution_count": 42,
   "metadata": {},
   "outputs": [],
   "source": [
    "def game():\n",
    "    a,b = eval(input('>>'))\n",
    "    if a+b == 3 or a+b == 12:\n",
    "        print('you lose')\n",
    "    if a+b == 7 or a+b == 11:\n",
    "        print('you win')\n",
    "    else:\n",
    "        a1,b1 = eval(input('>>'))\n",
    "        if a1+b1 == 7:\n",
    "            print('you lose')\n",
    "        if a1+b1 == a+b:\n",
    "            print('you win')"
   ]
  },
  {
   "cell_type": "code",
   "execution_count": 46,
   "metadata": {},
   "outputs": [
    {
     "name": "stdout",
     "output_type": "stream",
     "text": [
      ">>3,5\n",
      ">>2,5\n",
      "you lose\n"
     ]
    }
   ],
   "source": [
    "game()"
   ]
  },
  {
   "cell_type": "code",
   "execution_count": 81,
   "metadata": {},
   "outputs": [],
   "source": [
    "def game():\n",
    "    a = random.randint(1,6)\n",
    "    b = random.randint(1,6)\n",
    "    if a+b == 3 or a+b == 12:\n",
    "        print('you lose')\n",
    "    if a+b == 7 or a+b == 11:\n",
    "        print('you win')\n",
    "    else:\n",
    "        a1 = random.randint(1,6)\n",
    "        b1 = random.randint(1,6)\n",
    "        \n",
    "        if a1+b1 == 7:\n",
    "            print('you lose')\n",
    "        if a1+b1 == a+b:\n",
    "            print('you win')\n",
    "            print(a1,b1)"
   ]
  },
  {
   "cell_type": "code",
   "execution_count": 82,
   "metadata": {},
   "outputs": [
    {
     "name": "stdout",
     "output_type": "stream",
     "text": [
      "you lose\n"
     ]
    }
   ],
   "source": [
    "game()"
   ]
  },
  {
   "cell_type": "markdown",
   "metadata": {},
   "source": [
    "- 11 \n",
    "### 去网上寻找如何用Python代码发送邮件"
   ]
  },
  {
   "attachments": {
    "%E5%9B%BE%E7%89%87.png": {
     "image/png": "[encoded data removed]"
    }
   },
   "cell_type": "markdown",
   "metadata": {},
   "source": [
    "# ![%E5%9B%BE%E7%89%87.png](attachment:%E5%9B%BE%E7%89%87.png)"
   ]
  },
  {
   "cell_type": "code",
   "execution_count": null,
   "metadata": {},
   "outputs": [],
   "source": []
  }
 ],
 "metadata": {
  "kernelspec": {
   "display_name": "Python 3",
   "language": "python",
   "name": "python3"
  },
  "language_info": {
   "codemirror_mode": {
    "name": "ipython",
    "version": 3
   },
   "file_extension": ".py",
   "mimetype": "text/x-python",
   "name": "python",
   "nbconvert_exporter": "python",
   "pygments_lexer": "ipython3",
   "version": "3.7.3"
  }
 },
 "nbformat": 4,
 "nbformat_minor": 2
}
